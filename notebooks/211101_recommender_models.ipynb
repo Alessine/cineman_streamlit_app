{
 "cells": [
  {
   "cell_type": "markdown",
   "id": "7f083926-3350-40b8-9203-03d76c08c854",
   "metadata": {
    "id": "7f083926-3350-40b8-9203-03d76c08c854"
   },
   "source": [
    "# Movie Recommender Models"
   ]
  },
  {
   "cell_type": "code",
   "execution_count": 2,
   "id": "gI2D3leJ_i1k",
   "metadata": {
    "colab": {
     "base_uri": "https://localhost:8080/"
    },
    "executionInfo": {
     "elapsed": 8197,
     "status": "ok",
     "timestamp": 1635798103624,
     "user": {
      "displayName": "Angela Niederberger",
      "photoUrl": "https://lh3.googleusercontent.com/a/default-user=s64",
      "userId": "05652526769956031628"
     },
     "user_tz": -60
    },
    "id": "gI2D3leJ_i1k",
    "outputId": "11dadf03-fad8-4823-b4dd-c6d9af3d3a77"
   },
   "outputs": [
    {
     "name": "stdout",
     "output_type": "stream",
     "text": [
      "Collecting contractions\n",
      "  Downloading contractions-0.0.55-py2.py3-none-any.whl (7.9 kB)\n",
      "Collecting textsearch>=0.0.21\n",
      "  Downloading textsearch-0.0.21-py2.py3-none-any.whl (7.5 kB)\n",
      "Collecting anyascii\n",
      "  Downloading anyascii-0.3.0-py3-none-any.whl (284 kB)\n",
      "\u001b[K     |████████████████████████████████| 284 kB 4.1 MB/s \n",
      "\u001b[?25hCollecting pyahocorasick\n",
      "  Downloading pyahocorasick-1.4.2.tar.gz (321 kB)\n",
      "\u001b[K     |████████████████████████████████| 321 kB 33.9 MB/s \n",
      "\u001b[?25hBuilding wheels for collected packages: pyahocorasick\n",
      "  Building wheel for pyahocorasick (setup.py) ... \u001b[?25l\u001b[?25hdone\n",
      "  Created wheel for pyahocorasick: filename=pyahocorasick-1.4.2-cp37-cp37m-linux_x86_64.whl size=85445 sha256=084abdd77f45bb32c2f89ec1b2249677f8b9376178ba40dc644b4a0935792f4a\n",
      "  Stored in directory: /root/.cache/pip/wheels/25/19/a6/8f363d9939162782bb8439d886469756271abc01f76fbd790f\n",
      "Successfully built pyahocorasick\n",
      "Installing collected packages: pyahocorasick, anyascii, textsearch, contractions\n",
      "Successfully installed anyascii-0.3.0 contractions-0.0.55 pyahocorasick-1.4.2 textsearch-0.0.21\n"
     ]
    }
   ],
   "source": [
    "pip install contractions"
   ]
  },
  {
   "cell_type": "code",
   "execution_count": 3,
   "id": "5216511c-a1db-4036-8e78-95b90161940c",
   "metadata": {
    "executionInfo": {
     "elapsed": 866,
     "status": "ok",
     "timestamp": 1635798107314,
     "user": {
      "displayName": "Angela Niederberger",
      "photoUrl": "https://lh3.googleusercontent.com/a/default-user=s64",
      "userId": "05652526769956031628"
     },
     "user_tz": -60
    },
    "id": "5216511c-a1db-4036-8e78-95b90161940c"
   },
   "outputs": [],
   "source": [
    "import pandas as pd\n",
    "import nltk\n",
    "import re\n",
    "import numpy as np\n",
    "import contractions\n",
    "from datetime import date"
   ]
  },
  {
   "cell_type": "markdown",
   "id": "b375bb4a-d480-46b1-8649-0e7056814b9d",
   "metadata": {
    "id": "b375bb4a-d480-46b1-8649-0e7056814b9d"
   },
   "source": [
    "## Preparing the Corpus"
   ]
  },
  {
   "cell_type": "code",
   "execution_count": 4,
   "id": "OiXjiy8-_upP",
   "metadata": {
    "colab": {
     "base_uri": "https://localhost:8080/"
    },
    "executionInfo": {
     "elapsed": 27154,
     "status": "ok",
     "timestamp": 1635798139276,
     "user": {
      "displayName": "Angela Niederberger",
      "photoUrl": "https://lh3.googleusercontent.com/a/default-user=s64",
      "userId": "05652526769956031628"
     },
     "user_tz": -60
    },
    "id": "OiXjiy8-_upP",
    "outputId": "92613957-0b02-4db3-ba10-632329410b6d"
   },
   "outputs": [
    {
     "name": "stdout",
     "output_type": "stream",
     "text": [
      "Mounted at /content/drive\n"
     ]
    }
   ],
   "source": [
    "#from google.colab import drive\n",
    "#drive.mount('/content/drive')"
   ]
  },
  {
   "cell_type": "code",
   "execution_count": 4,
   "id": "6574fc5c-e0ca-468a-a116-a1a94ac16fbf",
   "metadata": {
    "executionInfo": {
     "elapsed": 2561,
     "status": "ok",
     "timestamp": 1635798144889,
     "user": {
      "displayName": "Angela Niederberger",
      "photoUrl": "https://lh3.googleusercontent.com/a/default-user=s64",
      "userId": "05652526769956031628"
     },
     "user_tz": -60
    },
    "id": "6574fc5c-e0ca-468a-a116-a1a94ac16fbf"
   },
   "outputs": [],
   "source": [
    "# Reading in the data and basic cleaning\n",
    "colab_old_movies = \"/content/drive/MyDrive/Colab_Notebooks/cineman_streamlit_app/tmdb_5000_movies.csv\"\n",
    "colab_recent_movies = \"/content/drive/MyDrive/Colab_Notebooks/cineman_streamlit_app/2021-10-29_zurich_movie_overviews.csv\"\n",
    "\n",
    "local_old_movies = \"../data/external/tmdb_5000_movies.csv\"\n",
    "#local_recent_movies = f\"../data/raw/{date.today()}_zurich_movie_overviews.csv\"\n",
    "local_recent_movies = f\"../data/raw/2021-10-29_zurich_movie_overviews.csv\"\n",
    "\n",
    "movie_reviews_old = pd.read_csv(local_old_movies)\n",
    "movie_reviews_old = movie_reviews_old.sort_values(\"popularity\", ascending=False).drop_duplicates(\"original_title\").reset_index()\n",
    "\n",
    "movie_reviews_recent = pd.read_csv(local_recent_movies)"
   ]
  },
  {
   "cell_type": "code",
   "execution_count": 38,
   "id": "H5_fyx1gDfMg",
   "metadata": {
    "executionInfo": {
     "elapsed": 2,
     "status": "ok",
     "timestamp": 1635798148068,
     "user": {
      "displayName": "Angela Niederberger",
      "photoUrl": "https://lh3.googleusercontent.com/a/default-user=s64",
      "userId": "05652526769956031628"
     },
     "user_tz": -60
    },
    "id": "H5_fyx1gDfMg"
   },
   "outputs": [],
   "source": [
    "def prepare_movie_descriptions(df):\n",
    "    df_2 = df.copy()\n",
    "    df_2 = df_2.loc[df_2[\"overview\"].notna()]\n",
    "    df_2[\"tagline\"] = df_2[\"tagline\"].fillna(\"\")\n",
    "    df_2[\"description\"] = df_2[\"tagline\"] + \" \" + df_2[\"overview\"]\n",
    "    df_2 = df_2[[\"original_title\", \"description\"]]\n",
    "\n",
    "    return df_2"
   ]
  },
  {
   "cell_type": "code",
   "execution_count": 54,
   "id": "MgInk0X7C00W",
   "metadata": {
    "colab": {
     "base_uri": "https://localhost:8080/",
     "height": 143
    },
    "executionInfo": {
     "elapsed": 719,
     "status": "ok",
     "timestamp": 1635798152676,
     "user": {
      "displayName": "Angela Niederberger",
      "photoUrl": "https://lh3.googleusercontent.com/a/default-user=s64",
      "userId": "05652526769956031628"
     },
     "user_tz": -60
    },
    "id": "MgInk0X7C00W",
    "outputId": "faf552f6-ffb3-4c39-8986-6bba0402bec2"
   },
   "outputs": [
    {
     "name": "stdout",
     "output_type": "stream",
     "text": [
      "(4798, 2)\n"
     ]
    },
    {
     "data": {
      "text/html": [
       "<div>\n",
       "<style scoped>\n",
       "    .dataframe tbody tr th:only-of-type {\n",
       "        vertical-align: middle;\n",
       "    }\n",
       "\n",
       "    .dataframe tbody tr th {\n",
       "        vertical-align: top;\n",
       "    }\n",
       "\n",
       "    .dataframe thead th {\n",
       "        text-align: right;\n",
       "    }\n",
       "</style>\n",
       "<table border=\"1\" class=\"dataframe\">\n",
       "  <thead>\n",
       "    <tr style=\"text-align: right;\">\n",
       "      <th></th>\n",
       "      <th>original_title</th>\n",
       "      <th>description</th>\n",
       "    </tr>\n",
       "  </thead>\n",
       "  <tbody>\n",
       "    <tr>\n",
       "      <th>0</th>\n",
       "      <td>Minions</td>\n",
       "      <td>Before Gru, they had a history of bad bosses M...</td>\n",
       "    </tr>\n",
       "    <tr>\n",
       "      <th>1</th>\n",
       "      <td>Interstellar</td>\n",
       "      <td>Mankind was born on Earth. It was never meant ...</td>\n",
       "    </tr>\n",
       "    <tr>\n",
       "      <th>2</th>\n",
       "      <td>Deadpool</td>\n",
       "      <td>Witness the beginning of a happy ending Deadpo...</td>\n",
       "    </tr>\n",
       "  </tbody>\n",
       "</table>\n",
       "</div>"
      ],
      "text/plain": [
       "  original_title                                        description\n",
       "0        Minions  Before Gru, they had a history of bad bosses M...\n",
       "1   Interstellar  Mankind was born on Earth. It was never meant ...\n",
       "2       Deadpool  Witness the beginning of a happy ending Deadpo..."
      ]
     },
     "execution_count": 54,
     "metadata": {},
     "output_type": "execute_result"
    }
   ],
   "source": [
    "movie_reviews_old_2 = prepare_movie_descriptions(movie_reviews_old)\n",
    "print(movie_reviews_old_2.shape)\n",
    "movie_reviews_old_2.head(3)"
   ]
  },
  {
   "cell_type": "code",
   "execution_count": 55,
   "id": "2Q8FBYgJD_4a",
   "metadata": {
    "colab": {
     "base_uri": "https://localhost:8080/",
     "height": 143
    },
    "executionInfo": {
     "elapsed": 7,
     "status": "ok",
     "timestamp": 1635798155752,
     "user": {
      "displayName": "Angela Niederberger",
      "photoUrl": "https://lh3.googleusercontent.com/a/default-user=s64",
      "userId": "05652526769956031628"
     },
     "user_tz": -60
    },
    "id": "2Q8FBYgJD_4a",
    "outputId": "0841d02f-41bd-4ed6-fb69-b4d5301ea015"
   },
   "outputs": [
    {
     "name": "stdout",
     "output_type": "stream",
     "text": [
      "(37, 2)\n"
     ]
    },
    {
     "data": {
      "text/html": [
       "<div>\n",
       "<style scoped>\n",
       "    .dataframe tbody tr th:only-of-type {\n",
       "        vertical-align: middle;\n",
       "    }\n",
       "\n",
       "    .dataframe tbody tr th {\n",
       "        vertical-align: top;\n",
       "    }\n",
       "\n",
       "    .dataframe thead th {\n",
       "        text-align: right;\n",
       "    }\n",
       "</style>\n",
       "<table border=\"1\" class=\"dataframe\">\n",
       "  <thead>\n",
       "    <tr style=\"text-align: right;\">\n",
       "      <th></th>\n",
       "      <th>original_title</th>\n",
       "      <th>description</th>\n",
       "    </tr>\n",
       "  </thead>\n",
       "  <tbody>\n",
       "    <tr>\n",
       "      <th>0</th>\n",
       "      <td>Wild</td>\n",
       "      <td>A woman with a tragic past decides to start h...</td>\n",
       "    </tr>\n",
       "    <tr>\n",
       "      <th>1</th>\n",
       "      <td>Azor</td>\n",
       "      <td>Yvan De Wiel, a private banker from Geneva, i...</td>\n",
       "    </tr>\n",
       "    <tr>\n",
       "      <th>2</th>\n",
       "      <td>Quo Vadis, Aida?</td>\n",
       "      <td>Bosnia, July 1995. Aida is a translator for t...</td>\n",
       "    </tr>\n",
       "  </tbody>\n",
       "</table>\n",
       "</div>"
      ],
      "text/plain": [
       "     original_title                                        description\n",
       "0              Wild   A woman with a tragic past decides to start h...\n",
       "1              Azor   Yvan De Wiel, a private banker from Geneva, i...\n",
       "2  Quo Vadis, Aida?   Bosnia, July 1995. Aida is a translator for t..."
      ]
     },
     "execution_count": 55,
     "metadata": {},
     "output_type": "execute_result"
    }
   ],
   "source": [
    "movie_reviews_recent_2 = prepare_movie_descriptions(movie_reviews_recent)\n",
    "print(movie_reviews_recent_2.shape)\n",
    "movie_reviews_recent_2.head(3)"
   ]
  },
  {
   "cell_type": "code",
   "execution_count": 51,
   "id": "M-NzLisWJy5N",
   "metadata": {
    "colab": {
     "base_uri": "https://localhost:8080/"
    },
    "executionInfo": {
     "elapsed": 519,
     "status": "ok",
     "timestamp": 1635801447112,
     "user": {
      "displayName": "Angela Niederberger",
      "photoUrl": "https://lh3.googleusercontent.com/a/default-user=s64",
      "userId": "05652526769956031628"
     },
     "user_tz": -60
    },
    "id": "M-NzLisWJy5N",
    "outputId": "72aa231b-9a6a-4eba-8f0c-44d5c8a3a69b"
   },
   "outputs": [
    {
     "data": {
      "text/plain": [
       "(4832, 2)"
      ]
     },
     "execution_count": 51,
     "metadata": {},
     "output_type": "execute_result"
    }
   ],
   "source": [
    "movie_reviews_df = pd.concat([movie_reviews_old_2, movie_reviews_recent_2]\n",
    "                            ).drop_duplicates(\"original_title\", keep=\"last\").reset_index(drop=True)\n",
    "\n",
    "movie_reviews_df.shape"
   ]
  },
  {
   "cell_type": "code",
   "execution_count": 67,
   "id": "32ce982d-2680-45ef-8cff-8f9911bfed7a",
   "metadata": {
    "colab": {
     "base_uri": "https://localhost:8080/"
    },
    "executionInfo": {
     "elapsed": 3281,
     "status": "ok",
     "timestamp": 1635798177559,
     "user": {
      "displayName": "Angela Niederberger",
      "photoUrl": "https://lh3.googleusercontent.com/a/default-user=s64",
      "userId": "05652526769956031628"
     },
     "user_tz": -60
    },
    "id": "32ce982d-2680-45ef-8cff-8f9911bfed7a",
    "outputId": "bcbf5beb-cc3c-46a2-91d6-0be8bac6f790"
   },
   "outputs": [
    {
     "name": "stderr",
     "output_type": "stream",
     "text": [
      "[nltk_data] Downloading package stopwords to /home/angela/nltk_data...\n",
      "[nltk_data]   Package stopwords is already up-to-date!\n",
      "[nltk_data] Downloading package punkt to /home/angela/nltk_data...\n",
      "[nltk_data]   Package punkt is already up-to-date!\n"
     ]
    },
    {
     "name": "stdout",
     "output_type": "stream",
     "text": [
      "4832\n"
     ]
    },
    {
     "data": {
      "text/plain": [
       "array(['gru history bad bosses minions stuart kevin bob recruited scarlet overkill supervillain alongside inventor husband herb hatches plot take world',\n",
       "       'mankind born earth never meant die interstellar chronicles adventures group explorers make use newly discovered wormhole surpass limitations human space travel conquer vast distances involved interstellar voyage',\n",
       "       'witness beginning happy ending deadpool tells origin story former special forces operative turned mercenary wade wilson subjected rogue experiment leaves accelerated healing powers adopts alter ego deadpool armed new abilities dark twisted sense humor deadpool hunts man nearly destroyed life'],\n",
       "      dtype='<U797')"
      ]
     },
     "execution_count": 67,
     "metadata": {},
     "output_type": "execute_result"
    }
   ],
   "source": [
    "# Clean and normalize the text\n",
    "\n",
    "nltk.download('stopwords')\n",
    "nltk.download('punkt')\n",
    "stop_words = nltk.corpus.stopwords.words('english')\n",
    "\n",
    "def normalize_document(doc):\n",
    "    # remove special characters\n",
    "    doc = re.sub(r'[^a-zA-Z0-9\\s]', '', doc, flags=re.I|re.A)\n",
    "    # lower case\n",
    "    doc = doc.lower()\n",
    "    # strip whitespaces\n",
    "    doc = doc.strip()\n",
    "    # fix contractions\n",
    "    doc = contractions.fix(doc)\n",
    "    # tokenize document\n",
    "    tokens = nltk.word_tokenize(doc)\n",
    "    #filter stopwords out of document\n",
    "    filtered_tokens = [token for token in tokens if token not in stop_words]\n",
    "    # re-create document from filtered tokens\n",
    "    doc = ' '.join(filtered_tokens)\n",
    "    return doc\n",
    "\n",
    "normalize_corpus = np.vectorize(normalize_document)\n",
    "\n",
    "norm_corpus = normalize_corpus(list(movie_reviews_df['description']))\n",
    "print(len(norm_corpus))\n",
    "norm_corpus[0:3]"
   ]
  },
  {
   "cell_type": "code",
   "execution_count": 66,
   "id": "0969d247-dc58-4cd7-aa05-64c349fd5f6c",
   "metadata": {
    "colab": {
     "base_uri": "https://localhost:8080/"
    },
    "executionInfo": {
     "elapsed": 377,
     "status": "ok",
     "timestamp": 1635798184591,
     "user": {
      "displayName": "Angela Niederberger",
      "photoUrl": "https://lh3.googleusercontent.com/a/default-user=s64",
      "userId": "05652526769956031628"
     },
     "user_tz": -60
    },
    "id": "0969d247-dc58-4cd7-aa05-64c349fd5f6c",
    "outputId": "30964893-f52c-416c-e05b-78fec2cfc398"
   },
   "outputs": [
    {
     "data": {
      "text/plain": [
       "['gru',\n",
       " 'history',\n",
       " 'bad',\n",
       " 'bosses',\n",
       " 'minions',\n",
       " 'stuart',\n",
       " 'kevin',\n",
       " 'bob',\n",
       " 'recruited',\n",
       " 'scarlet',\n",
       " 'overkill',\n",
       " 'supervillain',\n",
       " 'alongside',\n",
       " 'inventor',\n",
       " 'husband',\n",
       " 'herb',\n",
       " 'hatches',\n",
       " 'plot',\n",
       " 'take',\n",
       " 'world']"
      ]
     },
     "execution_count": 66,
     "metadata": {},
     "output_type": "execute_result"
    }
   ],
   "source": [
    "tokenized_docs = [doc.split() for doc in norm_corpus]\n",
    "tokenized_docs[0]"
   ]
  },
  {
   "cell_type": "markdown",
   "id": "d3df0ab1-c872-4dd3-9c35-c24c4021698d",
   "metadata": {
    "id": "d3df0ab1-c872-4dd3-9c35-c24c4021698d",
    "tags": []
   },
   "source": [
    "## Fast Text Model"
   ]
  },
  {
   "cell_type": "code",
   "execution_count": 61,
   "id": "109bdfa0-19d8-480f-a85b-cff6a5d595af",
   "metadata": {
    "executionInfo": {
     "elapsed": 487538,
     "status": "ok",
     "timestamp": 1635798677793,
     "user": {
      "displayName": "Angela Niederberger",
      "photoUrl": "https://lh3.googleusercontent.com/a/default-user=s64",
      "userId": "05652526769956031628"
     },
     "user_tz": -60
    },
    "id": "109bdfa0-19d8-480f-a85b-cff6a5d595af"
   },
   "outputs": [],
   "source": [
    "#from gensim.models import FastText\n",
    "\n",
    "# ideal config params size: 300, window: 30, min_count=2 or more, iter=50 or more (use 10 if it takes too much time)\n",
    "#ft_model = FastText(tokenized_docs, size=300, window=30, min_count=2, workers=4, sg=1, iter=50)"
   ]
  },
  {
   "cell_type": "code",
   "execution_count": 60,
   "id": "0md-As_GM5SX",
   "metadata": {
    "executionInfo": {
     "elapsed": 981,
     "status": "ok",
     "timestamp": 1635799053043,
     "user": {
      "displayName": "Angela Niederberger",
      "photoUrl": "https://lh3.googleusercontent.com/a/default-user=s64",
      "userId": "05652526769956031628"
     },
     "user_tz": -60
    },
    "id": "0md-As_GM5SX"
   },
   "outputs": [],
   "source": [
    "import pickle\n",
    "\n",
    "#colab_modelpath = '/content/drive/MyDrive/Colab_Notebooks/cineman_streamlit_app/fast_text_model.sav'\n",
    "#pickle.dump(ft_model, open(colab_modelpath, 'wb'))\n",
    "\n",
    "local_modelpath = \"../models/fast_text_model.sav\"\n",
    "\n",
    "ft_model = pickle.load(open(local_modelpath, 'rb'))"
   ]
  },
  {
   "cell_type": "code",
   "execution_count": 62,
   "id": "VBtz7D5FAjon",
   "metadata": {
    "executionInfo": {
     "elapsed": 417,
     "status": "ok",
     "timestamp": 1635799095487,
     "user": {
      "displayName": "Angela Niederberger",
      "photoUrl": "https://lh3.googleusercontent.com/a/default-user=s64",
      "userId": "05652526769956031628"
     },
     "user_tz": -60
    },
    "id": "VBtz7D5FAjon"
   },
   "outputs": [],
   "source": [
    "# Turning word level embeddings into document embeddings\n",
    "\n",
    "def averaged_word2vec_vectorizer(corpus, model, num_features):\n",
    "    vocabulary = set(model.wv.index2word)\n",
    "    \n",
    "    def average_word_vectors(words, model, vocabulary, num_features):\n",
    "        feature_vector = np.zeros((num_features,), dtype=\"float64\")\n",
    "        nwords = 0.\n",
    "        \n",
    "        for word in words:\n",
    "            if word in vocabulary: \n",
    "                nwords = nwords + 1.\n",
    "                feature_vector = np.add(feature_vector, model.wv[word])\n",
    "        if nwords:\n",
    "            feature_vector = np.divide(feature_vector, nwords)\n",
    "\n",
    "        return feature_vector\n",
    "\n",
    "    features = [average_word_vectors(tokenized_sentence, model, vocabulary, num_features)\n",
    "                    for tokenized_sentence in corpus]\n",
    "    return np.array(features)"
   ]
  },
  {
   "cell_type": "code",
   "execution_count": 68,
   "id": "mX0QIuF4Ay83",
   "metadata": {
    "colab": {
     "base_uri": "https://localhost:8080/"
    },
    "executionInfo": {
     "elapsed": 1226,
     "status": "ok",
     "timestamp": 1635799100192,
     "user": {
      "displayName": "Angela Niederberger",
      "photoUrl": "https://lh3.googleusercontent.com/a/default-user=s64",
      "userId": "05652526769956031628"
     },
     "user_tz": -60
    },
    "id": "mX0QIuF4Ay83",
    "outputId": "15555529-4b4a-474b-944d-81defd0d211d"
   },
   "outputs": [
    {
     "ename": "AttributeError",
     "evalue": "The index2word attribute has been replaced by index_to_key since Gensim 4.0.0.\nSee https://github.com/RaRe-Technologies/gensim/wiki/Migrating-from-Gensim-3.x-to-4",
     "output_type": "error",
     "traceback": [
      "\u001b[0;31m---------------------------------------------------------------------------\u001b[0m",
      "\u001b[0;31mAttributeError\u001b[0m                            Traceback (most recent call last)",
      "\u001b[0;32m/tmp/ipykernel_5784/3019337550.py\u001b[0m in \u001b[0;36m<module>\u001b[0;34m\u001b[0m\n\u001b[0;32m----> 1\u001b[0;31m \u001b[0mdoc_vecs_ft\u001b[0m \u001b[0;34m=\u001b[0m \u001b[0maveraged_word2vec_vectorizer\u001b[0m\u001b[0;34m(\u001b[0m\u001b[0mtokenized_docs\u001b[0m\u001b[0;34m,\u001b[0m \u001b[0mft_model\u001b[0m\u001b[0;34m,\u001b[0m \u001b[0;36m300\u001b[0m\u001b[0;34m)\u001b[0m\u001b[0;34m\u001b[0m\u001b[0;34m\u001b[0m\u001b[0m\n\u001b[0m\u001b[1;32m      2\u001b[0m \u001b[0mdoc_vecs_ft\u001b[0m\u001b[0;34m.\u001b[0m\u001b[0mshape\u001b[0m\u001b[0;34m\u001b[0m\u001b[0;34m\u001b[0m\u001b[0m\n",
      "\u001b[0;32m/tmp/ipykernel_5784/1443725795.py\u001b[0m in \u001b[0;36maveraged_word2vec_vectorizer\u001b[0;34m(corpus, model, num_features)\u001b[0m\n\u001b[1;32m      2\u001b[0m \u001b[0;34m\u001b[0m\u001b[0m\n\u001b[1;32m      3\u001b[0m \u001b[0;32mdef\u001b[0m \u001b[0maveraged_word2vec_vectorizer\u001b[0m\u001b[0;34m(\u001b[0m\u001b[0mcorpus\u001b[0m\u001b[0;34m,\u001b[0m \u001b[0mmodel\u001b[0m\u001b[0;34m,\u001b[0m \u001b[0mnum_features\u001b[0m\u001b[0;34m)\u001b[0m\u001b[0;34m:\u001b[0m\u001b[0;34m\u001b[0m\u001b[0;34m\u001b[0m\u001b[0m\n\u001b[0;32m----> 4\u001b[0;31m     \u001b[0mvocabulary\u001b[0m \u001b[0;34m=\u001b[0m \u001b[0mset\u001b[0m\u001b[0;34m(\u001b[0m\u001b[0mmodel\u001b[0m\u001b[0;34m.\u001b[0m\u001b[0mwv\u001b[0m\u001b[0;34m.\u001b[0m\u001b[0mindex2word\u001b[0m\u001b[0;34m)\u001b[0m\u001b[0;34m\u001b[0m\u001b[0;34m\u001b[0m\u001b[0m\n\u001b[0m\u001b[1;32m      5\u001b[0m \u001b[0;34m\u001b[0m\u001b[0m\n\u001b[1;32m      6\u001b[0m     \u001b[0;32mdef\u001b[0m \u001b[0maverage_word_vectors\u001b[0m\u001b[0;34m(\u001b[0m\u001b[0mwords\u001b[0m\u001b[0;34m,\u001b[0m \u001b[0mmodel\u001b[0m\u001b[0;34m,\u001b[0m \u001b[0mvocabulary\u001b[0m\u001b[0;34m,\u001b[0m \u001b[0mnum_features\u001b[0m\u001b[0;34m)\u001b[0m\u001b[0;34m:\u001b[0m\u001b[0;34m\u001b[0m\u001b[0;34m\u001b[0m\u001b[0m\n",
      "\u001b[0;32m~/anaconda3/envs/streamlit_app/lib/python3.8/site-packages/gensim/models/keyedvectors.py\u001b[0m in \u001b[0;36mindex2word\u001b[0;34m(self)\u001b[0m\n\u001b[1;32m    648\u001b[0m     \u001b[0;34m@\u001b[0m\u001b[0mproperty\u001b[0m\u001b[0;34m\u001b[0m\u001b[0;34m\u001b[0m\u001b[0m\n\u001b[1;32m    649\u001b[0m     \u001b[0;32mdef\u001b[0m \u001b[0mindex2word\u001b[0m\u001b[0;34m(\u001b[0m\u001b[0mself\u001b[0m\u001b[0;34m)\u001b[0m\u001b[0;34m:\u001b[0m\u001b[0;34m\u001b[0m\u001b[0;34m\u001b[0m\u001b[0m\n\u001b[0;32m--> 650\u001b[0;31m         raise AttributeError(\n\u001b[0m\u001b[1;32m    651\u001b[0m             \u001b[0;34m\"The index2word attribute has been replaced by index_to_key since Gensim 4.0.0.\\n\"\u001b[0m\u001b[0;34m\u001b[0m\u001b[0;34m\u001b[0m\u001b[0m\n\u001b[1;32m    652\u001b[0m             \u001b[0;34m\"See https://github.com/RaRe-Technologies/gensim/wiki/Migrating-from-Gensim-3.x-to-4\"\u001b[0m\u001b[0;34m\u001b[0m\u001b[0;34m\u001b[0m\u001b[0m\n",
      "\u001b[0;31mAttributeError\u001b[0m: The index2word attribute has been replaced by index_to_key since Gensim 4.0.0.\nSee https://github.com/RaRe-Technologies/gensim/wiki/Migrating-from-Gensim-3.x-to-4"
     ]
    }
   ],
   "source": [
    "doc_vecs_ft = averaged_word2vec_vectorizer(tokenized_docs, ft_model, 300)\n",
    "doc_vecs_ft.shape"
   ]
  },
  {
   "cell_type": "code",
   "execution_count": 22,
   "id": "JN5MTAbMBBtc",
   "metadata": {
    "colab": {
     "base_uri": "https://localhost:8080/",
     "height": 256
    },
    "executionInfo": {
     "elapsed": 1094,
     "status": "ok",
     "timestamp": 1635799105932,
     "user": {
      "displayName": "Angela Niederberger",
      "photoUrl": "https://lh3.googleusercontent.com/a/default-user=s64",
      "userId": "05652526769956031628"
     },
     "user_tz": -60
    },
    "id": "JN5MTAbMBBtc",
    "outputId": "f3a3fb28-a093-4776-9994-dbb79c28b679"
   },
   "outputs": [
    {
     "data": {
      "text/html": [
       "<div>\n",
       "<style scoped>\n",
       "    .dataframe tbody tr th:only-of-type {\n",
       "        vertical-align: middle;\n",
       "    }\n",
       "\n",
       "    .dataframe tbody tr th {\n",
       "        vertical-align: top;\n",
       "    }\n",
       "\n",
       "    .dataframe thead th {\n",
       "        text-align: right;\n",
       "    }\n",
       "</style>\n",
       "<table border=\"1\" class=\"dataframe\">\n",
       "  <thead>\n",
       "    <tr style=\"text-align: right;\">\n",
       "      <th></th>\n",
       "      <th>0</th>\n",
       "      <th>1</th>\n",
       "      <th>2</th>\n",
       "      <th>3</th>\n",
       "      <th>4</th>\n",
       "      <th>5</th>\n",
       "      <th>6</th>\n",
       "      <th>7</th>\n",
       "      <th>8</th>\n",
       "      <th>9</th>\n",
       "      <th>10</th>\n",
       "      <th>11</th>\n",
       "      <th>12</th>\n",
       "      <th>13</th>\n",
       "      <th>14</th>\n",
       "      <th>15</th>\n",
       "      <th>16</th>\n",
       "      <th>17</th>\n",
       "      <th>18</th>\n",
       "      <th>19</th>\n",
       "      <th>20</th>\n",
       "      <th>21</th>\n",
       "      <th>22</th>\n",
       "      <th>23</th>\n",
       "      <th>24</th>\n",
       "      <th>25</th>\n",
       "      <th>26</th>\n",
       "      <th>27</th>\n",
       "      <th>28</th>\n",
       "      <th>29</th>\n",
       "      <th>30</th>\n",
       "      <th>31</th>\n",
       "      <th>32</th>\n",
       "      <th>33</th>\n",
       "      <th>34</th>\n",
       "      <th>35</th>\n",
       "      <th>36</th>\n",
       "      <th>37</th>\n",
       "      <th>38</th>\n",
       "      <th>39</th>\n",
       "      <th>...</th>\n",
       "      <th>4797</th>\n",
       "      <th>4798</th>\n",
       "      <th>4799</th>\n",
       "      <th>4800</th>\n",
       "      <th>4801</th>\n",
       "      <th>4802</th>\n",
       "      <th>4803</th>\n",
       "      <th>4804</th>\n",
       "      <th>4805</th>\n",
       "      <th>4806</th>\n",
       "      <th>4807</th>\n",
       "      <th>4808</th>\n",
       "      <th>4809</th>\n",
       "      <th>4810</th>\n",
       "      <th>4811</th>\n",
       "      <th>4812</th>\n",
       "      <th>4813</th>\n",
       "      <th>4814</th>\n",
       "      <th>4815</th>\n",
       "      <th>4816</th>\n",
       "      <th>4817</th>\n",
       "      <th>4818</th>\n",
       "      <th>4819</th>\n",
       "      <th>4820</th>\n",
       "      <th>4821</th>\n",
       "      <th>4822</th>\n",
       "      <th>4823</th>\n",
       "      <th>4824</th>\n",
       "      <th>4825</th>\n",
       "      <th>4826</th>\n",
       "      <th>4827</th>\n",
       "      <th>4828</th>\n",
       "      <th>4829</th>\n",
       "      <th>4830</th>\n",
       "      <th>4831</th>\n",
       "      <th>4832</th>\n",
       "      <th>4833</th>\n",
       "      <th>4834</th>\n",
       "      <th>4835</th>\n",
       "      <th>4836</th>\n",
       "    </tr>\n",
       "  </thead>\n",
       "  <tbody>\n",
       "    <tr>\n",
       "      <th>0</th>\n",
       "      <td>1.000000</td>\n",
       "      <td>0.544371</td>\n",
       "      <td>0.581542</td>\n",
       "      <td>0.592283</td>\n",
       "      <td>0.592020</td>\n",
       "      <td>0.516476</td>\n",
       "      <td>0.551647</td>\n",
       "      <td>0.594866</td>\n",
       "      <td>0.480950</td>\n",
       "      <td>0.556415</td>\n",
       "      <td>0.504953</td>\n",
       "      <td>0.544554</td>\n",
       "      <td>0.450361</td>\n",
       "      <td>0.497972</td>\n",
       "      <td>0.575938</td>\n",
       "      <td>0.514532</td>\n",
       "      <td>0.542451</td>\n",
       "      <td>0.526235</td>\n",
       "      <td>0.558689</td>\n",
       "      <td>0.546900</td>\n",
       "      <td>0.531221</td>\n",
       "      <td>0.487438</td>\n",
       "      <td>0.508384</td>\n",
       "      <td>0.468716</td>\n",
       "      <td>0.517595</td>\n",
       "      <td>0.494261</td>\n",
       "      <td>0.598329</td>\n",
       "      <td>0.663213</td>\n",
       "      <td>0.429199</td>\n",
       "      <td>0.576758</td>\n",
       "      <td>0.518754</td>\n",
       "      <td>0.558232</td>\n",
       "      <td>0.538881</td>\n",
       "      <td>0.488769</td>\n",
       "      <td>0.462096</td>\n",
       "      <td>0.581429</td>\n",
       "      <td>0.652049</td>\n",
       "      <td>0.433584</td>\n",
       "      <td>0.525556</td>\n",
       "      <td>0.522751</td>\n",
       "      <td>...</td>\n",
       "      <td>0.558603</td>\n",
       "      <td>0.507487</td>\n",
       "      <td>0.505278</td>\n",
       "      <td>0.504545</td>\n",
       "      <td>0.524787</td>\n",
       "      <td>0.576169</td>\n",
       "      <td>0.484424</td>\n",
       "      <td>0.530920</td>\n",
       "      <td>0.465747</td>\n",
       "      <td>0.494652</td>\n",
       "      <td>0.593491</td>\n",
       "      <td>0.521854</td>\n",
       "      <td>0.573608</td>\n",
       "      <td>0.462314</td>\n",
       "      <td>0.560031</td>\n",
       "      <td>0.438122</td>\n",
       "      <td>0.446248</td>\n",
       "      <td>0.526923</td>\n",
       "      <td>0.477657</td>\n",
       "      <td>0.451765</td>\n",
       "      <td>0.459440</td>\n",
       "      <td>0.505658</td>\n",
       "      <td>0.525589</td>\n",
       "      <td>0.573770</td>\n",
       "      <td>0.515914</td>\n",
       "      <td>0.484607</td>\n",
       "      <td>0.512085</td>\n",
       "      <td>0.500587</td>\n",
       "      <td>0.552740</td>\n",
       "      <td>0.450980</td>\n",
       "      <td>0.524836</td>\n",
       "      <td>0.463800</td>\n",
       "      <td>0.520003</td>\n",
       "      <td>0.468681</td>\n",
       "      <td>0.511174</td>\n",
       "      <td>0.580674</td>\n",
       "      <td>0.484563</td>\n",
       "      <td>0.458714</td>\n",
       "      <td>0.478598</td>\n",
       "      <td>0.461432</td>\n",
       "    </tr>\n",
       "    <tr>\n",
       "      <th>1</th>\n",
       "      <td>0.544371</td>\n",
       "      <td>1.000000</td>\n",
       "      <td>0.537805</td>\n",
       "      <td>0.527232</td>\n",
       "      <td>0.632371</td>\n",
       "      <td>0.524081</td>\n",
       "      <td>0.562125</td>\n",
       "      <td>0.603941</td>\n",
       "      <td>0.592666</td>\n",
       "      <td>0.562151</td>\n",
       "      <td>0.517727</td>\n",
       "      <td>0.549456</td>\n",
       "      <td>0.600800</td>\n",
       "      <td>0.565233</td>\n",
       "      <td>0.627764</td>\n",
       "      <td>0.625662</td>\n",
       "      <td>0.603222</td>\n",
       "      <td>0.619507</td>\n",
       "      <td>0.620828</td>\n",
       "      <td>0.557848</td>\n",
       "      <td>0.595318</td>\n",
       "      <td>0.566820</td>\n",
       "      <td>0.572894</td>\n",
       "      <td>0.595755</td>\n",
       "      <td>0.558125</td>\n",
       "      <td>0.622211</td>\n",
       "      <td>0.609759</td>\n",
       "      <td>0.641452</td>\n",
       "      <td>0.528239</td>\n",
       "      <td>0.562032</td>\n",
       "      <td>0.567556</td>\n",
       "      <td>0.554760</td>\n",
       "      <td>0.575576</td>\n",
       "      <td>0.487617</td>\n",
       "      <td>0.513719</td>\n",
       "      <td>0.562258</td>\n",
       "      <td>0.584946</td>\n",
       "      <td>0.613008</td>\n",
       "      <td>0.584761</td>\n",
       "      <td>0.546790</td>\n",
       "      <td>...</td>\n",
       "      <td>0.607860</td>\n",
       "      <td>0.564015</td>\n",
       "      <td>0.542341</td>\n",
       "      <td>0.520468</td>\n",
       "      <td>0.558336</td>\n",
       "      <td>0.534277</td>\n",
       "      <td>0.552335</td>\n",
       "      <td>0.528620</td>\n",
       "      <td>0.584298</td>\n",
       "      <td>0.630011</td>\n",
       "      <td>0.553508</td>\n",
       "      <td>0.537334</td>\n",
       "      <td>0.609757</td>\n",
       "      <td>0.528597</td>\n",
       "      <td>0.648283</td>\n",
       "      <td>0.611970</td>\n",
       "      <td>0.586956</td>\n",
       "      <td>0.520292</td>\n",
       "      <td>0.576215</td>\n",
       "      <td>0.535664</td>\n",
       "      <td>0.523466</td>\n",
       "      <td>0.568320</td>\n",
       "      <td>0.649052</td>\n",
       "      <td>0.579829</td>\n",
       "      <td>0.568512</td>\n",
       "      <td>0.548104</td>\n",
       "      <td>0.563423</td>\n",
       "      <td>0.586294</td>\n",
       "      <td>0.568060</td>\n",
       "      <td>0.520481</td>\n",
       "      <td>0.579760</td>\n",
       "      <td>0.542795</td>\n",
       "      <td>0.630653</td>\n",
       "      <td>0.528651</td>\n",
       "      <td>0.585672</td>\n",
       "      <td>0.535563</td>\n",
       "      <td>0.568664</td>\n",
       "      <td>0.478731</td>\n",
       "      <td>0.568754</td>\n",
       "      <td>0.550561</td>\n",
       "    </tr>\n",
       "    <tr>\n",
       "      <th>2</th>\n",
       "      <td>0.581542</td>\n",
       "      <td>0.537805</td>\n",
       "      <td>1.000000</td>\n",
       "      <td>0.598782</td>\n",
       "      <td>0.515564</td>\n",
       "      <td>0.542140</td>\n",
       "      <td>0.546884</td>\n",
       "      <td>0.597189</td>\n",
       "      <td>0.600254</td>\n",
       "      <td>0.574654</td>\n",
       "      <td>0.530482</td>\n",
       "      <td>0.724822</td>\n",
       "      <td>0.536980</td>\n",
       "      <td>0.557343</td>\n",
       "      <td>0.580439</td>\n",
       "      <td>0.542110</td>\n",
       "      <td>0.600311</td>\n",
       "      <td>0.591538</td>\n",
       "      <td>0.643132</td>\n",
       "      <td>0.574130</td>\n",
       "      <td>0.593517</td>\n",
       "      <td>0.536523</td>\n",
       "      <td>0.559324</td>\n",
       "      <td>0.562836</td>\n",
       "      <td>0.513675</td>\n",
       "      <td>0.490106</td>\n",
       "      <td>0.572437</td>\n",
       "      <td>0.564808</td>\n",
       "      <td>0.503412</td>\n",
       "      <td>0.709779</td>\n",
       "      <td>0.577979</td>\n",
       "      <td>0.568627</td>\n",
       "      <td>0.597522</td>\n",
       "      <td>0.545156</td>\n",
       "      <td>0.487478</td>\n",
       "      <td>0.685331</td>\n",
       "      <td>0.618102</td>\n",
       "      <td>0.525976</td>\n",
       "      <td>0.637470</td>\n",
       "      <td>0.570330</td>\n",
       "      <td>...</td>\n",
       "      <td>0.563936</td>\n",
       "      <td>0.539690</td>\n",
       "      <td>0.537821</td>\n",
       "      <td>0.632863</td>\n",
       "      <td>0.555518</td>\n",
       "      <td>0.544320</td>\n",
       "      <td>0.516927</td>\n",
       "      <td>0.488362</td>\n",
       "      <td>0.534422</td>\n",
       "      <td>0.518529</td>\n",
       "      <td>0.698784</td>\n",
       "      <td>0.539263</td>\n",
       "      <td>0.544275</td>\n",
       "      <td>0.461307</td>\n",
       "      <td>0.505210</td>\n",
       "      <td>0.500074</td>\n",
       "      <td>0.528395</td>\n",
       "      <td>0.537062</td>\n",
       "      <td>0.514364</td>\n",
       "      <td>0.666500</td>\n",
       "      <td>0.510037</td>\n",
       "      <td>0.502717</td>\n",
       "      <td>0.622322</td>\n",
       "      <td>0.535559</td>\n",
       "      <td>0.508078</td>\n",
       "      <td>0.539632</td>\n",
       "      <td>0.551787</td>\n",
       "      <td>0.512650</td>\n",
       "      <td>0.548212</td>\n",
       "      <td>0.457949</td>\n",
       "      <td>0.561780</td>\n",
       "      <td>0.493700</td>\n",
       "      <td>0.616689</td>\n",
       "      <td>0.528419</td>\n",
       "      <td>0.502147</td>\n",
       "      <td>0.548603</td>\n",
       "      <td>0.544229</td>\n",
       "      <td>0.499351</td>\n",
       "      <td>0.523645</td>\n",
       "      <td>0.509130</td>\n",
       "    </tr>\n",
       "    <tr>\n",
       "      <th>3</th>\n",
       "      <td>0.592283</td>\n",
       "      <td>0.527232</td>\n",
       "      <td>0.598782</td>\n",
       "      <td>1.000000</td>\n",
       "      <td>0.555343</td>\n",
       "      <td>0.533218</td>\n",
       "      <td>0.517675</td>\n",
       "      <td>0.591228</td>\n",
       "      <td>0.578659</td>\n",
       "      <td>0.700445</td>\n",
       "      <td>0.523377</td>\n",
       "      <td>0.589652</td>\n",
       "      <td>0.482125</td>\n",
       "      <td>0.559685</td>\n",
       "      <td>0.558481</td>\n",
       "      <td>0.540689</td>\n",
       "      <td>0.531326</td>\n",
       "      <td>0.526509</td>\n",
       "      <td>0.591869</td>\n",
       "      <td>0.528313</td>\n",
       "      <td>0.550357</td>\n",
       "      <td>0.551137</td>\n",
       "      <td>0.506167</td>\n",
       "      <td>0.492040</td>\n",
       "      <td>0.552159</td>\n",
       "      <td>0.525503</td>\n",
       "      <td>0.573395</td>\n",
       "      <td>0.575588</td>\n",
       "      <td>0.453515</td>\n",
       "      <td>0.603641</td>\n",
       "      <td>0.546870</td>\n",
       "      <td>0.608456</td>\n",
       "      <td>0.603111</td>\n",
       "      <td>0.526897</td>\n",
       "      <td>0.473249</td>\n",
       "      <td>0.565594</td>\n",
       "      <td>0.622762</td>\n",
       "      <td>0.502130</td>\n",
       "      <td>0.580700</td>\n",
       "      <td>0.541185</td>\n",
       "      <td>...</td>\n",
       "      <td>0.626967</td>\n",
       "      <td>0.565390</td>\n",
       "      <td>0.528661</td>\n",
       "      <td>0.490101</td>\n",
       "      <td>0.544845</td>\n",
       "      <td>0.526291</td>\n",
       "      <td>0.540198</td>\n",
       "      <td>0.484673</td>\n",
       "      <td>0.534362</td>\n",
       "      <td>0.516468</td>\n",
       "      <td>0.565392</td>\n",
       "      <td>0.538312</td>\n",
       "      <td>0.518767</td>\n",
       "      <td>0.535217</td>\n",
       "      <td>0.531851</td>\n",
       "      <td>0.472914</td>\n",
       "      <td>0.520104</td>\n",
       "      <td>0.601663</td>\n",
       "      <td>0.477619</td>\n",
       "      <td>0.534564</td>\n",
       "      <td>0.526969</td>\n",
       "      <td>0.560517</td>\n",
       "      <td>0.597641</td>\n",
       "      <td>0.529527</td>\n",
       "      <td>0.488080</td>\n",
       "      <td>0.517243</td>\n",
       "      <td>0.486047</td>\n",
       "      <td>0.584333</td>\n",
       "      <td>0.528291</td>\n",
       "      <td>0.432248</td>\n",
       "      <td>0.611437</td>\n",
       "      <td>0.491963</td>\n",
       "      <td>0.528534</td>\n",
       "      <td>0.556642</td>\n",
       "      <td>0.575201</td>\n",
       "      <td>0.496025</td>\n",
       "      <td>0.505667</td>\n",
       "      <td>0.522671</td>\n",
       "      <td>0.477358</td>\n",
       "      <td>0.526365</td>\n",
       "    </tr>\n",
       "    <tr>\n",
       "      <th>4</th>\n",
       "      <td>0.592020</td>\n",
       "      <td>0.632371</td>\n",
       "      <td>0.515564</td>\n",
       "      <td>0.555343</td>\n",
       "      <td>1.000000</td>\n",
       "      <td>0.494332</td>\n",
       "      <td>0.545823</td>\n",
       "      <td>0.624732</td>\n",
       "      <td>0.528614</td>\n",
       "      <td>0.579878</td>\n",
       "      <td>0.589968</td>\n",
       "      <td>0.548142</td>\n",
       "      <td>0.541237</td>\n",
       "      <td>0.593001</td>\n",
       "      <td>0.590801</td>\n",
       "      <td>0.545613</td>\n",
       "      <td>0.639995</td>\n",
       "      <td>0.588601</td>\n",
       "      <td>0.599919</td>\n",
       "      <td>0.566544</td>\n",
       "      <td>0.567935</td>\n",
       "      <td>0.524994</td>\n",
       "      <td>0.531374</td>\n",
       "      <td>0.513775</td>\n",
       "      <td>0.570021</td>\n",
       "      <td>0.565555</td>\n",
       "      <td>0.650608</td>\n",
       "      <td>0.679214</td>\n",
       "      <td>0.517620</td>\n",
       "      <td>0.572972</td>\n",
       "      <td>0.520335</td>\n",
       "      <td>0.550773</td>\n",
       "      <td>0.549041</td>\n",
       "      <td>0.570075</td>\n",
       "      <td>0.486257</td>\n",
       "      <td>0.557744</td>\n",
       "      <td>0.629565</td>\n",
       "      <td>0.449697</td>\n",
       "      <td>0.522988</td>\n",
       "      <td>0.575440</td>\n",
       "      <td>...</td>\n",
       "      <td>0.570471</td>\n",
       "      <td>0.512469</td>\n",
       "      <td>0.534640</td>\n",
       "      <td>0.513892</td>\n",
       "      <td>0.528891</td>\n",
       "      <td>0.502538</td>\n",
       "      <td>0.484556</td>\n",
       "      <td>0.480833</td>\n",
       "      <td>0.500821</td>\n",
       "      <td>0.542159</td>\n",
       "      <td>0.589421</td>\n",
       "      <td>0.520998</td>\n",
       "      <td>0.634105</td>\n",
       "      <td>0.451998</td>\n",
       "      <td>0.590846</td>\n",
       "      <td>0.552599</td>\n",
       "      <td>0.467333</td>\n",
       "      <td>0.492715</td>\n",
       "      <td>0.553626</td>\n",
       "      <td>0.545445</td>\n",
       "      <td>0.533749</td>\n",
       "      <td>0.486529</td>\n",
       "      <td>0.602845</td>\n",
       "      <td>0.519703</td>\n",
       "      <td>0.555800</td>\n",
       "      <td>0.522062</td>\n",
       "      <td>0.534931</td>\n",
       "      <td>0.514907</td>\n",
       "      <td>0.539751</td>\n",
       "      <td>0.421690</td>\n",
       "      <td>0.541900</td>\n",
       "      <td>0.601287</td>\n",
       "      <td>0.561175</td>\n",
       "      <td>0.564819</td>\n",
       "      <td>0.520212</td>\n",
       "      <td>0.585266</td>\n",
       "      <td>0.562736</td>\n",
       "      <td>0.496714</td>\n",
       "      <td>0.555030</td>\n",
       "      <td>0.499221</td>\n",
       "    </tr>\n",
       "  </tbody>\n",
       "</table>\n",
       "<p>5 rows × 4837 columns</p>\n",
       "</div>"
      ],
      "text/plain": [
       "       0         1         2     ...      4834      4835      4836\n",
       "0  1.000000  0.544371  0.581542  ...  0.458714  0.478598  0.461432\n",
       "1  0.544371  1.000000  0.537805  ...  0.478731  0.568754  0.550561\n",
       "2  0.581542  0.537805  1.000000  ...  0.499351  0.523645  0.509130\n",
       "3  0.592283  0.527232  0.598782  ...  0.522671  0.477358  0.526365\n",
       "4  0.592020  0.632371  0.515564  ...  0.496714  0.555030  0.499221\n",
       "\n",
       "[5 rows x 4837 columns]"
      ]
     },
     "execution_count": 22,
     "metadata": {},
     "output_type": "execute_result"
    }
   ],
   "source": [
    "from sklearn.metrics.pairwise import cosine_similarity\n",
    "\n",
    "doc_sim = cosine_similarity(doc_vecs_ft)\n",
    "doc_sim_df = pd.DataFrame(doc_sim)\n",
    "doc_sim_df.head()"
   ]
  },
  {
   "cell_type": "code",
   "execution_count": 86,
   "id": "klLz_KP4QlIm",
   "metadata": {
    "executionInfo": {
     "elapsed": 414,
     "status": "ok",
     "timestamp": 1635801378093,
     "user": {
      "displayName": "Angela Niederberger",
      "photoUrl": "https://lh3.googleusercontent.com/a/default-user=s64",
      "userId": "05652526769956031628"
     },
     "user_tz": -60
    },
    "id": "klLz_KP4QlIm"
   },
   "outputs": [],
   "source": [
    "# What are the indices of recent movies in the overall df?\n",
    "recent_movies = movie_reviews_recent_2[\"original_title\"].values\n",
    "recent_movie_idx = movie_reviews_df[movie_reviews_df[\"original_title\"].isin(recent_movies)].index"
   ]
  },
  {
   "cell_type": "code",
   "execution_count": 87,
   "id": "gx27QrmcS9wP",
   "metadata": {
    "executionInfo": {
     "elapsed": 413,
     "status": "ok",
     "timestamp": 1635801381368,
     "user": {
      "displayName": "Angela Niederberger",
      "photoUrl": "https://lh3.googleusercontent.com/a/default-user=s64",
      "userId": "05652526769956031628"
     },
     "user_tz": -60
    },
    "id": "gx27QrmcS9wP"
   },
   "outputs": [],
   "source": [
    "all_movies = movie_reviews_df['original_title'].values"
   ]
  },
  {
   "cell_type": "code",
   "execution_count": 88,
   "id": "LT7NrkNUTFjA",
   "metadata": {
    "colab": {
     "base_uri": "https://localhost:8080/"
    },
    "executionInfo": {
     "elapsed": 604,
     "status": "ok",
     "timestamp": 1635801384028,
     "user": {
      "displayName": "Angela Niederberger",
      "photoUrl": "https://lh3.googleusercontent.com/a/default-user=s64",
      "userId": "05652526769956031628"
     },
     "user_tz": -60
    },
    "id": "LT7NrkNUTFjA",
    "outputId": "640a95be-df8f-4853-aebe-5aeb65e81b8e"
   },
   "outputs": [
    {
     "data": {
      "text/plain": [
       "(array([29]),)"
      ]
     },
     "execution_count": 88,
     "metadata": {},
     "output_type": "execute_result"
    }
   ],
   "source": [
    "np.where(all_movies == movie_title)"
   ]
  },
  {
   "cell_type": "code",
   "execution_count": 71,
   "id": "pjakIV7dTlGy",
   "metadata": {
    "colab": {
     "base_uri": "https://localhost:8080/"
    },
    "executionInfo": {
     "elapsed": 425,
     "status": "ok",
     "timestamp": 1635800647474,
     "user": {
      "displayName": "Angela Niederberger",
      "photoUrl": "https://lh3.googleusercontent.com/a/default-user=s64",
      "userId": "05652526769956031628"
     },
     "user_tz": -60
    },
    "id": "pjakIV7dTlGy",
    "outputId": "f8f533b8-0523-43b0-867c-a3601c92a5a2"
   },
   "outputs": [
    {
     "data": {
      "text/plain": [
       "array([0.64390206, 0.53778644, 0.58092955, 0.57675754, 0.56203207,\n",
       "       0.70977915, 0.60364094, 0.57297247, 0.53233894, 0.54355942,\n",
       "       0.59399121, 0.58231107, 0.58427417, 0.55879323, 0.69270922,\n",
       "       0.50896647, 0.51263898, 0.56717083, 0.55415708, 0.67525287,\n",
       "       0.55582693, 0.5595249 , 0.52451174, 0.5581815 , 0.5048028 ,\n",
       "       0.55943185, 0.52463726, 0.59748187, 0.56088283, 1.        ,\n",
       "       0.55876324, 0.55576169, 0.56888847, 0.60496752, 0.51547455,\n",
       "       0.55950282, 0.5494904 , 0.49864852, 0.57207141, 0.56117958])"
      ]
     },
     "execution_count": 71,
     "metadata": {},
     "output_type": "execute_result"
    }
   ],
   "source": [
    "recent_similarities = movie_similarities[recent_movie_idx]\n",
    "recent_similarities"
   ]
  },
  {
   "cell_type": "code",
   "execution_count": 80,
   "id": "vW2gPbGKWOTS",
   "metadata": {
    "colab": {
     "base_uri": "https://localhost:8080/"
    },
    "executionInfo": {
     "elapsed": 461,
     "status": "ok",
     "timestamp": 1635801180973,
     "user": {
      "displayName": "Angela Niederberger",
      "photoUrl": "https://lh3.googleusercontent.com/a/default-user=s64",
      "userId": "05652526769956031628"
     },
     "user_tz": -60
    },
    "id": "vW2gPbGKWOTS",
    "outputId": "ad054743-11df-47fb-c355-66c297b22099"
   },
   "outputs": [
    {
     "data": {
      "text/plain": [
       "(4837, 40)"
      ]
     },
     "execution_count": 80,
     "metadata": {},
     "output_type": "execute_result"
    }
   ],
   "source": [
    "len(similar_movies), len(similar_recent_movies)"
   ]
  },
  {
   "cell_type": "code",
   "execution_count": 82,
   "id": "O88U3CYWWpVv",
   "metadata": {
    "colab": {
     "base_uri": "https://localhost:8080/"
    },
    "executionInfo": {
     "elapsed": 721,
     "status": "ok",
     "timestamp": 1635801301495,
     "user": {
      "displayName": "Angela Niederberger",
      "photoUrl": "https://lh3.googleusercontent.com/a/default-user=s64",
      "userId": "05652526769956031628"
     },
     "user_tz": -60
    },
    "id": "O88U3CYWWpVv",
    "outputId": "23bdc0a0-e13f-4c19-a6b3-70aa230a846d"
   },
   "outputs": [
    {
     "data": {
      "text/plain": [
       "1.000000000000001"
      ]
     },
     "execution_count": 82,
     "metadata": {},
     "output_type": "execute_result"
    }
   ],
   "source": [
    "doc_sim_df.iloc[29][29]"
   ]
  },
  {
   "cell_type": "code",
   "execution_count": 111,
   "id": "Ci1CzkKqY8kc",
   "metadata": {
    "colab": {
     "base_uri": "https://localhost:8080/"
    },
    "executionInfo": {
     "elapsed": 407,
     "status": "ok",
     "timestamp": 1635802030276,
     "user": {
      "displayName": "Angela Niederberger",
      "photoUrl": "https://lh3.googleusercontent.com/a/default-user=s64",
      "userId": "05652526769956031628"
     },
     "user_tz": -60
    },
    "id": "Ci1CzkKqY8kc",
    "outputId": "c3093875-9ec8-44f5-a245-2a022ee3d63f"
   },
   "outputs": [
    {
     "data": {
      "text/plain": [
       "array([\"40 Stories. Twelve Terrorists. One Cop. NYPD cop, John McClane's plan to reconcile with his estranged wife is thrown for a serious loop when minutes after he arrives at her office, the entire building is overtaken by a group of terrorists. With little help from the LAPD, wisecracking McClane sets out to single-handedly rescue the hostages and bring the bad guys down.\"],\n",
       "      dtype=object)"
      ]
     },
     "execution_count": 111,
     "metadata": {},
     "output_type": "execute_result"
    }
   ],
   "source": [
    "movie_reviews_old_2[movie_reviews_old_2[\"original_title\"] == \"Die Hard\"].iloc[:,1].values"
   ]
  },
  {
   "cell_type": "code",
   "execution_count": 121,
   "id": "sQVYmTq8YAfn",
   "metadata": {
    "colab": {
     "base_uri": "https://localhost:8080/"
    },
    "executionInfo": {
     "elapsed": 828,
     "status": "ok",
     "timestamp": 1635802266220,
     "user": {
      "displayName": "Angela Niederberger",
      "photoUrl": "https://lh3.googleusercontent.com/a/default-user=s64",
      "userId": "05652526769956031628"
     },
     "user_tz": -60
    },
    "id": "sQVYmTq8YAfn",
    "outputId": "82b1dfa9-b50f-44c2-d8a1-8daa338c29b3"
   },
   "outputs": [
    {
     "data": {
      "text/plain": [
       "array([\"Beyond fear, destiny awaits. Paul Atreides, a brilliant and gifted young man born into a great destiny beyond his understanding, must travel to the most dangerous planet in the universe to ensure the future of his family and his people. As malevolent forces explode into conflict over the planet's exclusive supply of the most precious resource in existence-a commodity capable of unlocking humanity's greatest potential-only those who can conquer their fear will survive.\"],\n",
       "      dtype=object)"
      ]
     },
     "execution_count": 121,
     "metadata": {},
     "output_type": "execute_result"
    }
   ],
   "source": [
    "movie_reviews_recent_2[movie_reviews_recent_2[\"original_title\"] == \"Dune\"].iloc[:,1].values"
   ]
  },
  {
   "cell_type": "code",
   "execution_count": 120,
   "id": "ML3JmS_DP0ei",
   "metadata": {
    "colab": {
     "base_uri": "https://localhost:8080/"
    },
    "executionInfo": {
     "elapsed": 406,
     "status": "ok",
     "timestamp": 1635802247072,
     "user": {
      "displayName": "Angela Niederberger",
      "photoUrl": "https://lh3.googleusercontent.com/a/default-user=s64",
      "userId": "05652526769956031628"
     },
     "user_tz": -60
    },
    "id": "ML3JmS_DP0ei",
    "outputId": "095eb984-a651-4296-d72b-9671c6932fb9"
   },
   "outputs": [
    {
     "name": "stdout",
     "output_type": "stream",
     "text": [
      "Dune\n",
      "Dune\n",
      "The Mack\n",
      "Halloween Kills\n",
      "The Harder They Come\n",
      "Shang-Chi and the Legend of the Ten Rings\n",
      "Supernova\n",
      "Ghosts\n",
      "Contra\n",
      "The Ice Road\n",
      "After We Fell\n",
      "Cry Macho\n",
      "Ron's Gone Wrong\n",
      "Space Jam: A New Legacy\n",
      "Supernova\n",
      "The Boss Baby: Family Business\n",
      "Die Schule der magischen Tiere\n",
      "No Time to Die\n",
      "Tom & Jerry\n",
      "Wild\n",
      "Wild\n",
      "Schachnovelle\n",
      "Quo Vadis, Aida?\n",
      "The Last Duel\n",
      "Wesele\n",
      "Petite maman\n",
      "Es ist nur eine Phase, Hase\n",
      "Glassboy\n",
      "Lamb\n",
      "Und morgen seid ihr tot\n",
      "Titane\n",
      "Azor\n",
      "Style Wars 2\n",
      "Venom: Let There Be Carnage\n",
      "The Father\n",
      "Nomadland\n",
      "Herr Bachmann und seine Klasse\n",
      "The French Dispatch\n",
      "Monte Verità\n",
      "Bekenntnisse des Hochstaplers Felix Krull\n"
     ]
    }
   ],
   "source": [
    "movie_title = \"The Lord of the Rings: The Fellowship of the Ring\"\n",
    "movie_idx = np.where(all_movies == movie_title)[0][0]\n",
    "movie_idx\n",
    "movie_similarities = doc_sim_df.iloc[movie_idx].values\n",
    "#recent_similarities = movie_similarities[recent_movie_idx]\n",
    "similar_movies = np.argsort(-movie_similarities)\n",
    "similar_recent_movies = [index for index in similar_movies if index in recent_movie_idx]\n",
    "\n",
    "similar_recent_movies\n",
    "\n",
    "for i in similar_recent_movies:\n",
    "  print(all_movies[i])"
   ]
  },
  {
   "cell_type": "code",
   "execution_count": 73,
   "id": "vo_Efmm-VB90",
   "metadata": {
    "colab": {
     "base_uri": "https://localhost:8080/"
    },
    "executionInfo": {
     "elapsed": 406,
     "status": "ok",
     "timestamp": 1635800853906,
     "user": {
      "displayName": "Angela Niederberger",
      "photoUrl": "https://lh3.googleusercontent.com/a/default-user=s64",
      "userId": "05652526769956031628"
     },
     "user_tz": -60
    },
    "id": "vo_Efmm-VB90",
    "outputId": "8dc2d932-9bd5-407a-cfb3-97c219b9af04"
   },
   "outputs": [
    {
     "data": {
      "text/plain": [
       "array([0.64390206, 0.53778644, 0.58092955, 0.57675754, 0.56203207,\n",
       "       0.70977915, 0.60364094, 0.57297247, 0.53233894, 0.54355942,\n",
       "       0.59399121, 0.58231107, 0.58427417, 0.55879323, 0.69270922,\n",
       "       0.50896647, 0.51263898, 0.56717083, 0.55415708, 0.67525287,\n",
       "       0.55582693, 0.5595249 , 0.52451174, 0.5581815 , 0.5048028 ,\n",
       "       0.55943185, 0.52463726, 0.59748187, 0.56088283, 1.        ,\n",
       "       0.55876324, 0.55576169, 0.56888847, 0.60496752, 0.51547455,\n",
       "       0.55950282, 0.5494904 , 0.49864852, 0.57207141, 0.56117958])"
      ]
     },
     "execution_count": 73,
     "metadata": {},
     "output_type": "execute_result"
    }
   ],
   "source": [
    "recent_similarities"
   ]
  },
  {
   "cell_type": "code",
   "execution_count": 51,
   "id": "0AsOWrDlBapB",
   "metadata": {
    "executionInfo": {
     "elapsed": 416,
     "status": "ok",
     "timestamp": 1635800052929,
     "user": {
      "displayName": "Angela Niederberger",
      "photoUrl": "https://lh3.googleusercontent.com/a/default-user=s64",
      "userId": "05652526769956031628"
     },
     "user_tz": -60
    },
    "id": "0AsOWrDlBapB"
   },
   "outputs": [],
   "source": [
    "all_movies = movie_reviews_df['original_title'].values\n",
    "recent_movies = movie_reviews_recent_2[\"original_title\"].values\n",
    "\n",
    "def movie_recommender(movie_title, all_movies=all_movies, recent_movies=recent_movies, doc_sims=doc_sim_df):\n",
    "    # find movie id\n",
    "    movie_idx = np.where(all_movies == movie_title)[0][0]\n",
    "    # get movie similarities\n",
    "    movie_similarities = doc_sims.iloc[movie_idx].values\n",
    "    # get top 5 similar movie IDs\n",
    "    similar_movie_idxs = np.argsort(-movie_similarities[recent_movie_idx])[1:6]\n",
    "    # get top 5 movies\n",
    "    similar_movies = all_movies[similar_movie_idxs]\n",
    "    # return the top 5 movies\n",
    "    return similar_movies"
   ]
  },
  {
   "cell_type": "code",
   "execution_count": null,
   "id": "ga1rr8RXUycZ",
   "metadata": {
    "id": "ga1rr8RXUycZ"
   },
   "outputs": [],
   "source": [
    "def movie_recommender(movie_title, movies=movies_list, doc_sims=doc_sim_df):\n",
    "    # find movie id\n",
    "    movie_idx = np.where(movies == movie_title)[0][0]\n",
    "    # get movie similarities\n",
    "    movie_similarities = doc_sims.iloc[movie_idx].values\n",
    "    # get top 5 similar movie IDs\n",
    "    similar_movie_idxs = np.argsort(-movie_similarities)[1:6]\n",
    "    # get top 5 movies\n",
    "    similar_movies = movies[similar_movie_idxs]\n",
    "    # return the top 5 movies\n",
    "    return similar_movies"
   ]
  },
  {
   "cell_type": "code",
   "execution_count": 52,
   "id": "_V81b0QeBBxy",
   "metadata": {
    "colab": {
     "base_uri": "https://localhost:8080/"
    },
    "executionInfo": {
     "elapsed": 826,
     "status": "ok",
     "timestamp": 1635800058254,
     "user": {
      "displayName": "Angela Niederberger",
      "photoUrl": "https://lh3.googleusercontent.com/a/default-user=s64",
      "userId": "05652526769956031628"
     },
     "user_tz": -60
    },
    "id": "_V81b0QeBBxy",
    "outputId": "fd5716e8-840e-4c11-9a78-4818f79f45b8"
   },
   "outputs": [
    {
     "name": "stdout",
     "output_type": "stream",
     "text": [
      "Movie: Skyfall\n",
      "Top 5 recommended Movies: ['Spider-Man 3' 'Man of Steel' 'The Hobbit: The Battle of the Five Armies'\n",
      " 'Avatar' 'X-Men: The Last Stand']\n",
      "\n"
     ]
    }
   ],
   "source": [
    "\n",
    "#movies_list, movies_list.shape\n",
    "\n",
    "popular_movies = [\"Skyfall\"]\n",
    "\n",
    "for movie in popular_movies:\n",
    "    print('Movie:', movie)\n",
    "    print('Top 5 recommended Movies:', movie_recommender(movie_title=movie, all_movies=all_movies, recent_movies=recent_movies, doc_sims=doc_sim_df))\n",
    "    print()"
   ]
  }
 ],
 "metadata": {
  "accelerator": "GPU",
  "colab": {
   "collapsed_sections": [],
   "name": "211101_recommender_models.ipynb",
   "provenance": []
  },
  "kernelspec": {
   "display_name": "streamlit_app",
   "language": "python",
   "name": "streamlit_app"
  },
  "language_info": {
   "codemirror_mode": {
    "name": "ipython",
    "version": 3
   },
   "file_extension": ".py",
   "mimetype": "text/x-python",
   "name": "python",
   "nbconvert_exporter": "python",
   "pygments_lexer": "ipython3",
   "version": "3.8.12"
  }
 },
 "nbformat": 4,
 "nbformat_minor": 5
}
