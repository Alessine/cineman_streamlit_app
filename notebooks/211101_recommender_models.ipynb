{
 "cells": [
  {
   "cell_type": "markdown",
   "id": "7f083926-3350-40b8-9203-03d76c08c854",
   "metadata": {
    "id": "7f083926-3350-40b8-9203-03d76c08c854"
   },
   "source": [
    "# Movie Recommender Models"
   ]
  },
  {
   "cell_type": "code",
   "execution_count": 2,
   "id": "gI2D3leJ_i1k",
   "metadata": {
    "colab": {
     "base_uri": "https://localhost:8080/"
    },
    "executionInfo": {
     "elapsed": 8197,
     "status": "ok",
     "timestamp": 1635798103624,
     "user": {
      "displayName": "Angela Niederberger",
      "photoUrl": "https://lh3.googleusercontent.com/a/default-user=s64",
      "userId": "05652526769956031628"
     },
     "user_tz": -60
    },
    "id": "gI2D3leJ_i1k",
    "outputId": "11dadf03-fad8-4823-b4dd-c6d9af3d3a77"
   },
   "outputs": [
    {
     "name": "stdout",
     "output_type": "stream",
     "text": [
      "Collecting contractions\n",
      "  Downloading contractions-0.0.55-py2.py3-none-any.whl (7.9 kB)\n",
      "Collecting textsearch>=0.0.21\n",
      "  Downloading textsearch-0.0.21-py2.py3-none-any.whl (7.5 kB)\n",
      "Collecting anyascii\n",
      "  Downloading anyascii-0.3.0-py3-none-any.whl (284 kB)\n",
      "\u001b[K     |████████████████████████████████| 284 kB 4.1 MB/s \n",
      "\u001b[?25hCollecting pyahocorasick\n",
      "  Downloading pyahocorasick-1.4.2.tar.gz (321 kB)\n",
      "\u001b[K     |████████████████████████████████| 321 kB 33.9 MB/s \n",
      "\u001b[?25hBuilding wheels for collected packages: pyahocorasick\n",
      "  Building wheel for pyahocorasick (setup.py) ... \u001b[?25l\u001b[?25hdone\n",
      "  Created wheel for pyahocorasick: filename=pyahocorasick-1.4.2-cp37-cp37m-linux_x86_64.whl size=85445 sha256=084abdd77f45bb32c2f89ec1b2249677f8b9376178ba40dc644b4a0935792f4a\n",
      "  Stored in directory: /root/.cache/pip/wheels/25/19/a6/8f363d9939162782bb8439d886469756271abc01f76fbd790f\n",
      "Successfully built pyahocorasick\n",
      "Installing collected packages: pyahocorasick, anyascii, textsearch, contractions\n",
      "Successfully installed anyascii-0.3.0 contractions-0.0.55 pyahocorasick-1.4.2 textsearch-0.0.21\n"
     ]
    }
   ],
   "source": [
    "pip install contractions"
   ]
  },
  {
   "cell_type": "code",
   "execution_count": 1,
   "id": "5216511c-a1db-4036-8e78-95b90161940c",
   "metadata": {
    "executionInfo": {
     "elapsed": 866,
     "status": "ok",
     "timestamp": 1635798107314,
     "user": {
      "displayName": "Angela Niederberger",
      "photoUrl": "https://lh3.googleusercontent.com/a/default-user=s64",
      "userId": "05652526769956031628"
     },
     "user_tz": -60
    },
    "id": "5216511c-a1db-4036-8e78-95b90161940c"
   },
   "outputs": [],
   "source": [
    "import pandas as pd\n",
    "import json\n",
    "import nltk\n",
    "import re\n",
    "import numpy as np\n",
    "import contractions\n",
    "from datetime import date\n",
    "from gensim.models import FastText\n",
    "import pickle\n",
    "from sklearn.metrics.pairwise import cosine_similarity"
   ]
  },
  {
   "cell_type": "markdown",
   "id": "b375bb4a-d480-46b1-8649-0e7056814b9d",
   "metadata": {
    "id": "b375bb4a-d480-46b1-8649-0e7056814b9d"
   },
   "source": [
    "## Preparing the Corpus"
   ]
  },
  {
   "cell_type": "code",
   "execution_count": 4,
   "id": "OiXjiy8-_upP",
   "metadata": {
    "colab": {
     "base_uri": "https://localhost:8080/"
    },
    "executionInfo": {
     "elapsed": 27154,
     "status": "ok",
     "timestamp": 1635798139276,
     "user": {
      "displayName": "Angela Niederberger",
      "photoUrl": "https://lh3.googleusercontent.com/a/default-user=s64",
      "userId": "05652526769956031628"
     },
     "user_tz": -60
    },
    "id": "OiXjiy8-_upP",
    "outputId": "92613957-0b02-4db3-ba10-632329410b6d"
   },
   "outputs": [
    {
     "name": "stdout",
     "output_type": "stream",
     "text": [
      "Mounted at /content/drive\n"
     ]
    }
   ],
   "source": [
    "#from google.colab import drive\n",
    "#drive.mount('/content/drive')"
   ]
  },
  {
   "cell_type": "code",
   "execution_count": 208,
   "id": "59914608-9f26-43b7-8a7d-383d63410dca",
   "metadata": {},
   "outputs": [],
   "source": [
    "# Helper Functions\n",
    "\n",
    "def get_movie_genres(movies_df):\n",
    "    movie_genres = []\n",
    "    for i in range(len(movies_df)):\n",
    "        genre_list = json.loads(movies_df.genres[i])\n",
    "        genres = []\n",
    "        for genre in genre_list:\n",
    "            genres.append(genre[\"name\"])\n",
    "\n",
    "        genre_string = \" \".join(genres)\n",
    "        movie_genres.append(genre_string)\n",
    "    return movie_genres\n",
    "\n",
    "def prepare_movie_descriptions(df):\n",
    "    df_2 = df.copy()\n",
    "    df_2 = df_2.loc[df_2[\"overview\"].notna()]\n",
    "    df_2[\"tagline\"] = df_2[\"tagline\"].fillna(\"\")\n",
    "    df_2[\"genres_string\"] = df_2[\"genres_string\"].fillna(\"\")\n",
    "    df_2[\"description\"] = df_2[\"tagline\"] + \" \" + df_2[\"overview\"] + \" \" + df_2[\"genres_string\"]\n",
    "    df_2 = df_2[[\"original_title\", \"description\"]]\n",
    "\n",
    "    return df_2"
   ]
  },
  {
   "cell_type": "code",
   "execution_count": 209,
   "id": "6574fc5c-e0ca-468a-a116-a1a94ac16fbf",
   "metadata": {
    "executionInfo": {
     "elapsed": 2561,
     "status": "ok",
     "timestamp": 1635798144889,
     "user": {
      "displayName": "Angela Niederberger",
      "photoUrl": "https://lh3.googleusercontent.com/a/default-user=s64",
      "userId": "05652526769956031628"
     },
     "user_tz": -60
    },
    "id": "6574fc5c-e0ca-468a-a116-a1a94ac16fbf"
   },
   "outputs": [],
   "source": [
    "# Reading in the data and basic cleaning\n",
    "colab_old_movies = \"/content/drive/MyDrive/Colab_Notebooks/cineman_streamlit_app/tmdb_5000_movies.csv\"\n",
    "colab_recent_movies = \"/content/drive/MyDrive/Colab_Notebooks/cineman_streamlit_app/2021-10-29_zurich_movie_overviews.csv\"\n",
    "\n",
    "local_old_movies = \"../data/external/tmdb_5000_movies.csv\"\n",
    "#local_recent_movies = f\"../data/raw/{date.today()}_zurich_movie_overviews.csv\"\n",
    "local_recent_movies = f\"../data/raw/2021-10-29_zurich_movie_overviews.csv\"\n",
    "\n",
    "movie_reviews_old = pd.read_csv(local_old_movies)\n",
    "movie_reviews_old[\"genres_string\"] = get_movie_genres(movie_reviews_old)\n",
    "movie_reviews_old = movie_reviews_old.sort_values(\"popularity\", ascending=False).drop_duplicates(\"original_title\").reset_index()\n",
    "\n",
    "movie_reviews_recent = pd.read_csv(local_recent_movies)"
   ]
  },
  {
   "cell_type": "code",
   "execution_count": 210,
   "id": "MgInk0X7C00W",
   "metadata": {
    "colab": {
     "base_uri": "https://localhost:8080/",
     "height": 143
    },
    "executionInfo": {
     "elapsed": 719,
     "status": "ok",
     "timestamp": 1635798152676,
     "user": {
      "displayName": "Angela Niederberger",
      "photoUrl": "https://lh3.googleusercontent.com/a/default-user=s64",
      "userId": "05652526769956031628"
     },
     "user_tz": -60
    },
    "id": "MgInk0X7C00W",
    "outputId": "faf552f6-ffb3-4c39-8986-6bba0402bec2"
   },
   "outputs": [
    {
     "name": "stdout",
     "output_type": "stream",
     "text": [
      "(4798, 2)\n"
     ]
    },
    {
     "data": {
      "text/html": [
       "<div>\n",
       "<style scoped>\n",
       "    .dataframe tbody tr th:only-of-type {\n",
       "        vertical-align: middle;\n",
       "    }\n",
       "\n",
       "    .dataframe tbody tr th {\n",
       "        vertical-align: top;\n",
       "    }\n",
       "\n",
       "    .dataframe thead th {\n",
       "        text-align: right;\n",
       "    }\n",
       "</style>\n",
       "<table border=\"1\" class=\"dataframe\">\n",
       "  <thead>\n",
       "    <tr style=\"text-align: right;\">\n",
       "      <th></th>\n",
       "      <th>original_title</th>\n",
       "      <th>description</th>\n",
       "    </tr>\n",
       "  </thead>\n",
       "  <tbody>\n",
       "    <tr>\n",
       "      <th>0</th>\n",
       "      <td>Minions</td>\n",
       "      <td>Before Gru, they had a history of bad bosses M...</td>\n",
       "    </tr>\n",
       "    <tr>\n",
       "      <th>1</th>\n",
       "      <td>Interstellar</td>\n",
       "      <td>Mankind was born on Earth. It was never meant ...</td>\n",
       "    </tr>\n",
       "    <tr>\n",
       "      <th>2</th>\n",
       "      <td>Deadpool</td>\n",
       "      <td>Witness the beginning of a happy ending Deadpo...</td>\n",
       "    </tr>\n",
       "  </tbody>\n",
       "</table>\n",
       "</div>"
      ],
      "text/plain": [
       "  original_title                                        description\n",
       "0        Minions  Before Gru, they had a history of bad bosses M...\n",
       "1   Interstellar  Mankind was born on Earth. It was never meant ...\n",
       "2       Deadpool  Witness the beginning of a happy ending Deadpo..."
      ]
     },
     "execution_count": 210,
     "metadata": {},
     "output_type": "execute_result"
    }
   ],
   "source": [
    "movie_reviews_old_2 = prepare_movie_descriptions(movie_reviews_old)\n",
    "print(movie_reviews_old_2.shape)\n",
    "movie_reviews_old_2.head(3)"
   ]
  },
  {
   "cell_type": "code",
   "execution_count": 211,
   "id": "2Q8FBYgJD_4a",
   "metadata": {
    "colab": {
     "base_uri": "https://localhost:8080/",
     "height": 143
    },
    "executionInfo": {
     "elapsed": 7,
     "status": "ok",
     "timestamp": 1635798155752,
     "user": {
      "displayName": "Angela Niederberger",
      "photoUrl": "https://lh3.googleusercontent.com/a/default-user=s64",
      "userId": "05652526769956031628"
     },
     "user_tz": -60
    },
    "id": "2Q8FBYgJD_4a",
    "outputId": "0841d02f-41bd-4ed6-fb69-b4d5301ea015"
   },
   "outputs": [
    {
     "name": "stdout",
     "output_type": "stream",
     "text": [
      "(38, 2)\n"
     ]
    },
    {
     "data": {
      "text/html": [
       "<div>\n",
       "<style scoped>\n",
       "    .dataframe tbody tr th:only-of-type {\n",
       "        vertical-align: middle;\n",
       "    }\n",
       "\n",
       "    .dataframe tbody tr th {\n",
       "        vertical-align: top;\n",
       "    }\n",
       "\n",
       "    .dataframe thead th {\n",
       "        text-align: right;\n",
       "    }\n",
       "</style>\n",
       "<table border=\"1\" class=\"dataframe\">\n",
       "  <thead>\n",
       "    <tr style=\"text-align: right;\">\n",
       "      <th></th>\n",
       "      <th>original_title</th>\n",
       "      <th>description</th>\n",
       "    </tr>\n",
       "  </thead>\n",
       "  <tbody>\n",
       "    <tr>\n",
       "      <th>0</th>\n",
       "      <td>Wild</td>\n",
       "      <td>A woman with a tragic past decides to start h...</td>\n",
       "    </tr>\n",
       "    <tr>\n",
       "      <th>1</th>\n",
       "      <td>Azor</td>\n",
       "      <td>Yvan De Wiel, a private banker from Geneva, i...</td>\n",
       "    </tr>\n",
       "    <tr>\n",
       "      <th>2</th>\n",
       "      <td>Quo Vadis, Aida?</td>\n",
       "      <td>Bosnia, July 1995. Aida is a translator for t...</td>\n",
       "    </tr>\n",
       "  </tbody>\n",
       "</table>\n",
       "</div>"
      ],
      "text/plain": [
       "     original_title                                        description\n",
       "0              Wild   A woman with a tragic past decides to start h...\n",
       "1              Azor   Yvan De Wiel, a private banker from Geneva, i...\n",
       "2  Quo Vadis, Aida?   Bosnia, July 1995. Aida is a translator for t..."
      ]
     },
     "execution_count": 211,
     "metadata": {},
     "output_type": "execute_result"
    }
   ],
   "source": [
    "movie_reviews_recent_2 = prepare_movie_descriptions(movie_reviews_recent)\n",
    "print(movie_reviews_recent_2.shape)\n",
    "movie_reviews_recent_2.head(3)"
   ]
  },
  {
   "cell_type": "code",
   "execution_count": 213,
   "id": "M-NzLisWJy5N",
   "metadata": {
    "colab": {
     "base_uri": "https://localhost:8080/"
    },
    "executionInfo": {
     "elapsed": 519,
     "status": "ok",
     "timestamp": 1635801447112,
     "user": {
      "displayName": "Angela Niederberger",
      "photoUrl": "https://lh3.googleusercontent.com/a/default-user=s64",
      "userId": "05652526769956031628"
     },
     "user_tz": -60
    },
    "id": "M-NzLisWJy5N",
    "outputId": "72aa231b-9a6a-4eba-8f0c-44d5c8a3a69b"
   },
   "outputs": [
    {
     "data": {
      "text/plain": [
       "(4833, 2)"
      ]
     },
     "execution_count": 213,
     "metadata": {},
     "output_type": "execute_result"
    }
   ],
   "source": [
    "movie_reviews_df = pd.concat([movie_reviews_old_2, movie_reviews_recent_2]\n",
    "                            ).drop_duplicates(\"original_title\", keep=\"last\").reset_index(drop=True)\n",
    "\n",
    "movie_reviews_df.shape"
   ]
  },
  {
   "cell_type": "code",
   "execution_count": 278,
   "id": "32ce982d-2680-45ef-8cff-8f9911bfed7a",
   "metadata": {
    "colab": {
     "base_uri": "https://localhost:8080/"
    },
    "executionInfo": {
     "elapsed": 3281,
     "status": "ok",
     "timestamp": 1635798177559,
     "user": {
      "displayName": "Angela Niederberger",
      "photoUrl": "https://lh3.googleusercontent.com/a/default-user=s64",
      "userId": "05652526769956031628"
     },
     "user_tz": -60
    },
    "id": "32ce982d-2680-45ef-8cff-8f9911bfed7a",
    "outputId": "bcbf5beb-cc3c-46a2-91d6-0be8bac6f790"
   },
   "outputs": [
    {
     "name": "stdout",
     "output_type": "stream",
     "text": [
      "4833\n"
     ]
    },
    {
     "data": {
      "text/plain": [
       "'lovely day apocalyptic story set furthest reaches planet stark desert landscape humanity broken everyone crazed fighting necessities life within world exist two rebels run might able restore order max man action man words seeks peace mind following loss wife child aftermath chaos furiosa woman action woman believes path survival may achieved make across desert back childhood homeland action adventure science fiction thriller'"
      ]
     },
     "execution_count": 278,
     "metadata": {},
     "output_type": "execute_result"
    }
   ],
   "source": [
    "# Clean and normalize the text\n",
    "\n",
    "#nltk.download('stopwords')\n",
    "#nltk.download('punkt')\n",
    "stop_words = nltk.corpus.stopwords.words('english')\n",
    "\n",
    "def normalize_document(doc):\n",
    "    # remove special characters\n",
    "    doc = re.sub(r'[^a-zA-Z0-9\\s]', '', doc, flags=re.I|re.A)\n",
    "    # lower case\n",
    "    doc = doc.lower()\n",
    "    # strip whitespaces\n",
    "    doc = doc.strip()\n",
    "    # fix contractions\n",
    "    doc = contractions.fix(doc)\n",
    "    # tokenize document\n",
    "    tokens = nltk.word_tokenize(doc)\n",
    "    #filter stopwords out of document\n",
    "    filtered_tokens = [token for token in tokens if token not in stop_words]\n",
    "    # re-create document from filtered tokens\n",
    "    doc = ' '.join(filtered_tokens)\n",
    "    return doc\n",
    "\n",
    "normalize_corpus = np.vectorize(normalize_document)\n",
    "\n",
    "norm_corpus = normalize_corpus(list(movie_reviews_df['description']))\n",
    "print(len(norm_corpus))\n",
    "norm_corpus[4]"
   ]
  },
  {
   "cell_type": "code",
   "execution_count": 216,
   "id": "0969d247-dc58-4cd7-aa05-64c349fd5f6c",
   "metadata": {
    "colab": {
     "base_uri": "https://localhost:8080/"
    },
    "executionInfo": {
     "elapsed": 377,
     "status": "ok",
     "timestamp": 1635798184591,
     "user": {
      "displayName": "Angela Niederberger",
      "photoUrl": "https://lh3.googleusercontent.com/a/default-user=s64",
      "userId": "05652526769956031628"
     },
     "user_tz": -60
    },
    "id": "0969d247-dc58-4cd7-aa05-64c349fd5f6c",
    "outputId": "30964893-f52c-416c-e05b-78fec2cfc398"
   },
   "outputs": [],
   "source": [
    "tokenized_docs = [doc.split() for doc in norm_corpus]"
   ]
  },
  {
   "cell_type": "markdown",
   "id": "d3df0ab1-c872-4dd3-9c35-c24c4021698d",
   "metadata": {
    "id": "d3df0ab1-c872-4dd3-9c35-c24c4021698d",
    "tags": []
   },
   "source": [
    "## Fast Text Model"
   ]
  },
  {
   "cell_type": "code",
   "execution_count": 217,
   "id": "109bdfa0-19d8-480f-a85b-cff6a5d595af",
   "metadata": {
    "executionInfo": {
     "elapsed": 487538,
     "status": "ok",
     "timestamp": 1635798677793,
     "user": {
      "displayName": "Angela Niederberger",
      "photoUrl": "https://lh3.googleusercontent.com/a/default-user=s64",
      "userId": "05652526769956031628"
     },
     "user_tz": -60
    },
    "id": "109bdfa0-19d8-480f-a85b-cff6a5d595af"
   },
   "outputs": [],
   "source": [
    "ft_model = FastText(tokenized_docs, vector_size=300, window=30, min_count=2, workers=4, sg=1, epochs=50)"
   ]
  },
  {
   "cell_type": "code",
   "execution_count": 218,
   "id": "0md-As_GM5SX",
   "metadata": {
    "executionInfo": {
     "elapsed": 981,
     "status": "ok",
     "timestamp": 1635799053043,
     "user": {
      "displayName": "Angela Niederberger",
      "photoUrl": "https://lh3.googleusercontent.com/a/default-user=s64",
      "userId": "05652526769956031628"
     },
     "user_tz": -60
    },
    "id": "0md-As_GM5SX"
   },
   "outputs": [],
   "source": [
    "#colab_modelpath = '/content/drive/MyDrive/Colab_Notebooks/cineman_streamlit_app/fast_text_model.sav'\n",
    "pickle.dump(ft_model, open(local_modelpath, 'wb'))\n",
    "\n",
    "#local_modelpath = \"../models/fast_text_model.sav\"\n",
    "\n",
    "#ft_model = pickle.load(open(local_modelpath, 'rb'))"
   ]
  },
  {
   "cell_type": "code",
   "execution_count": 219,
   "id": "VBtz7D5FAjon",
   "metadata": {
    "executionInfo": {
     "elapsed": 417,
     "status": "ok",
     "timestamp": 1635799095487,
     "user": {
      "displayName": "Angela Niederberger",
      "photoUrl": "https://lh3.googleusercontent.com/a/default-user=s64",
      "userId": "05652526769956031628"
     },
     "user_tz": -60
    },
    "id": "VBtz7D5FAjon"
   },
   "outputs": [],
   "source": [
    "# Turning word level embeddings into document embeddings\n",
    "\n",
    "def averaged_word2vec_vectorizer(corpus, model, num_features):\n",
    "    vocabulary = set(model.wv.index_to_key)\n",
    "    \n",
    "    def average_word_vectors(words, model, vocabulary, num_features):\n",
    "        feature_vector = np.zeros((num_features,), dtype=\"float64\")\n",
    "        nwords = 0.\n",
    "        \n",
    "        for word in words:\n",
    "            if word in vocabulary: \n",
    "                nwords = nwords + 1.\n",
    "                feature_vector = np.add(feature_vector, model.wv[word])\n",
    "        if nwords:\n",
    "            feature_vector = np.divide(feature_vector, nwords)\n",
    "\n",
    "        return feature_vector\n",
    "\n",
    "    features = [average_word_vectors(tokenized_sentence, model, vocabulary, num_features)\n",
    "                    for tokenized_sentence in corpus]\n",
    "    return np.array(features)"
   ]
  },
  {
   "cell_type": "code",
   "execution_count": 220,
   "id": "mX0QIuF4Ay83",
   "metadata": {
    "colab": {
     "base_uri": "https://localhost:8080/"
    },
    "executionInfo": {
     "elapsed": 1226,
     "status": "ok",
     "timestamp": 1635799100192,
     "user": {
      "displayName": "Angela Niederberger",
      "photoUrl": "https://lh3.googleusercontent.com/a/default-user=s64",
      "userId": "05652526769956031628"
     },
     "user_tz": -60
    },
    "id": "mX0QIuF4Ay83",
    "outputId": "15555529-4b4a-474b-944d-81defd0d211d"
   },
   "outputs": [
    {
     "data": {
      "text/plain": [
       "(4833, 300)"
      ]
     },
     "execution_count": 220,
     "metadata": {},
     "output_type": "execute_result"
    }
   ],
   "source": [
    "doc_vecs_ft = averaged_word2vec_vectorizer(tokenized_docs, ft_model, 300)\n",
    "doc_vecs_ft.shape"
   ]
  },
  {
   "cell_type": "code",
   "execution_count": 221,
   "id": "JN5MTAbMBBtc",
   "metadata": {
    "colab": {
     "base_uri": "https://localhost:8080/",
     "height": 256
    },
    "executionInfo": {
     "elapsed": 1094,
     "status": "ok",
     "timestamp": 1635799105932,
     "user": {
      "displayName": "Angela Niederberger",
      "photoUrl": "https://lh3.googleusercontent.com/a/default-user=s64",
      "userId": "05652526769956031628"
     },
     "user_tz": -60
    },
    "id": "JN5MTAbMBBtc",
    "outputId": "f3a3fb28-a093-4776-9994-dbb79c28b679"
   },
   "outputs": [
    {
     "data": {
      "text/html": [
       "<div>\n",
       "<style scoped>\n",
       "    .dataframe tbody tr th:only-of-type {\n",
       "        vertical-align: middle;\n",
       "    }\n",
       "\n",
       "    .dataframe tbody tr th {\n",
       "        vertical-align: top;\n",
       "    }\n",
       "\n",
       "    .dataframe thead th {\n",
       "        text-align: right;\n",
       "    }\n",
       "</style>\n",
       "<table border=\"1\" class=\"dataframe\">\n",
       "  <thead>\n",
       "    <tr style=\"text-align: right;\">\n",
       "      <th></th>\n",
       "      <th>0</th>\n",
       "      <th>1</th>\n",
       "      <th>2</th>\n",
       "      <th>3</th>\n",
       "      <th>4</th>\n",
       "      <th>5</th>\n",
       "      <th>6</th>\n",
       "      <th>7</th>\n",
       "      <th>8</th>\n",
       "      <th>9</th>\n",
       "      <th>...</th>\n",
       "      <th>4823</th>\n",
       "      <th>4824</th>\n",
       "      <th>4825</th>\n",
       "      <th>4826</th>\n",
       "      <th>4827</th>\n",
       "      <th>4828</th>\n",
       "      <th>4829</th>\n",
       "      <th>4830</th>\n",
       "      <th>4831</th>\n",
       "      <th>4832</th>\n",
       "    </tr>\n",
       "  </thead>\n",
       "  <tbody>\n",
       "    <tr>\n",
       "      <th>0</th>\n",
       "      <td>1.000000</td>\n",
       "      <td>0.517415</td>\n",
       "      <td>0.510955</td>\n",
       "      <td>0.551631</td>\n",
       "      <td>0.561793</td>\n",
       "      <td>0.557224</td>\n",
       "      <td>0.525423</td>\n",
       "      <td>0.478245</td>\n",
       "      <td>0.460589</td>\n",
       "      <td>0.577626</td>\n",
       "      <td>...</td>\n",
       "      <td>0.590079</td>\n",
       "      <td>0.535040</td>\n",
       "      <td>0.565696</td>\n",
       "      <td>0.535177</td>\n",
       "      <td>0.534683</td>\n",
       "      <td>0.516525</td>\n",
       "      <td>0.491735</td>\n",
       "      <td>0.563811</td>\n",
       "      <td>0.529080</td>\n",
       "      <td>0.535516</td>\n",
       "    </tr>\n",
       "    <tr>\n",
       "      <th>1</th>\n",
       "      <td>0.517415</td>\n",
       "      <td>1.000000</td>\n",
       "      <td>0.568766</td>\n",
       "      <td>0.623255</td>\n",
       "      <td>0.638681</td>\n",
       "      <td>0.601999</td>\n",
       "      <td>0.542060</td>\n",
       "      <td>0.642528</td>\n",
       "      <td>0.589002</td>\n",
       "      <td>0.563567</td>\n",
       "      <td>...</td>\n",
       "      <td>0.531744</td>\n",
       "      <td>0.550824</td>\n",
       "      <td>0.567199</td>\n",
       "      <td>0.539954</td>\n",
       "      <td>0.514471</td>\n",
       "      <td>0.556247</td>\n",
       "      <td>0.541075</td>\n",
       "      <td>0.559870</td>\n",
       "      <td>0.506336</td>\n",
       "      <td>0.556237</td>\n",
       "    </tr>\n",
       "    <tr>\n",
       "      <th>2</th>\n",
       "      <td>0.510955</td>\n",
       "      <td>0.568766</td>\n",
       "      <td>1.000000</td>\n",
       "      <td>0.605084</td>\n",
       "      <td>0.610586</td>\n",
       "      <td>0.501114</td>\n",
       "      <td>0.528258</td>\n",
       "      <td>0.551192</td>\n",
       "      <td>0.557240</td>\n",
       "      <td>0.609948</td>\n",
       "      <td>...</td>\n",
       "      <td>0.564113</td>\n",
       "      <td>0.542670</td>\n",
       "      <td>0.547870</td>\n",
       "      <td>0.531231</td>\n",
       "      <td>0.541058</td>\n",
       "      <td>0.554508</td>\n",
       "      <td>0.559300</td>\n",
       "      <td>0.543766</td>\n",
       "      <td>0.535890</td>\n",
       "      <td>0.504513</td>\n",
       "    </tr>\n",
       "    <tr>\n",
       "      <th>3</th>\n",
       "      <td>0.551631</td>\n",
       "      <td>0.623255</td>\n",
       "      <td>0.605084</td>\n",
       "      <td>1.000000</td>\n",
       "      <td>0.650314</td>\n",
       "      <td>0.585077</td>\n",
       "      <td>0.527648</td>\n",
       "      <td>0.606546</td>\n",
       "      <td>0.613233</td>\n",
       "      <td>0.607943</td>\n",
       "      <td>...</td>\n",
       "      <td>0.590940</td>\n",
       "      <td>0.531167</td>\n",
       "      <td>0.567877</td>\n",
       "      <td>0.568459</td>\n",
       "      <td>0.545989</td>\n",
       "      <td>0.585187</td>\n",
       "      <td>0.579291</td>\n",
       "      <td>0.548378</td>\n",
       "      <td>0.505850</td>\n",
       "      <td>0.500467</td>\n",
       "    </tr>\n",
       "    <tr>\n",
       "      <th>4</th>\n",
       "      <td>0.561793</td>\n",
       "      <td>0.638681</td>\n",
       "      <td>0.610586</td>\n",
       "      <td>0.650314</td>\n",
       "      <td>1.000000</td>\n",
       "      <td>0.619522</td>\n",
       "      <td>0.585781</td>\n",
       "      <td>0.725705</td>\n",
       "      <td>0.634724</td>\n",
       "      <td>0.596203</td>\n",
       "      <td>...</td>\n",
       "      <td>0.647371</td>\n",
       "      <td>0.616543</td>\n",
       "      <td>0.679341</td>\n",
       "      <td>0.602220</td>\n",
       "      <td>0.594075</td>\n",
       "      <td>0.641582</td>\n",
       "      <td>0.678406</td>\n",
       "      <td>0.500060</td>\n",
       "      <td>0.605050</td>\n",
       "      <td>0.625272</td>\n",
       "    </tr>\n",
       "  </tbody>\n",
       "</table>\n",
       "<p>5 rows × 4833 columns</p>\n",
       "</div>"
      ],
      "text/plain": [
       "       0         1         2         3         4         5         6     \\\n",
       "0  1.000000  0.517415  0.510955  0.551631  0.561793  0.557224  0.525423   \n",
       "1  0.517415  1.000000  0.568766  0.623255  0.638681  0.601999  0.542060   \n",
       "2  0.510955  0.568766  1.000000  0.605084  0.610586  0.501114  0.528258   \n",
       "3  0.551631  0.623255  0.605084  1.000000  0.650314  0.585077  0.527648   \n",
       "4  0.561793  0.638681  0.610586  0.650314  1.000000  0.619522  0.585781   \n",
       "\n",
       "       7         8         9     ...      4823      4824      4825      4826  \\\n",
       "0  0.478245  0.460589  0.577626  ...  0.590079  0.535040  0.565696  0.535177   \n",
       "1  0.642528  0.589002  0.563567  ...  0.531744  0.550824  0.567199  0.539954   \n",
       "2  0.551192  0.557240  0.609948  ...  0.564113  0.542670  0.547870  0.531231   \n",
       "3  0.606546  0.613233  0.607943  ...  0.590940  0.531167  0.567877  0.568459   \n",
       "4  0.725705  0.634724  0.596203  ...  0.647371  0.616543  0.679341  0.602220   \n",
       "\n",
       "       4827      4828      4829      4830      4831      4832  \n",
       "0  0.534683  0.516525  0.491735  0.563811  0.529080  0.535516  \n",
       "1  0.514471  0.556247  0.541075  0.559870  0.506336  0.556237  \n",
       "2  0.541058  0.554508  0.559300  0.543766  0.535890  0.504513  \n",
       "3  0.545989  0.585187  0.579291  0.548378  0.505850  0.500467  \n",
       "4  0.594075  0.641582  0.678406  0.500060  0.605050  0.625272  \n",
       "\n",
       "[5 rows x 4833 columns]"
      ]
     },
     "execution_count": 221,
     "metadata": {},
     "output_type": "execute_result"
    }
   ],
   "source": [
    "doc_sim = cosine_similarity(doc_vecs_ft)\n",
    "doc_sim_df = pd.DataFrame(doc_sim)\n",
    "doc_sim_df.head()"
   ]
  },
  {
   "cell_type": "code",
   "execution_count": 263,
   "id": "ML3JmS_DP0ei",
   "metadata": {
    "colab": {
     "base_uri": "https://localhost:8080/"
    },
    "executionInfo": {
     "elapsed": 406,
     "status": "ok",
     "timestamp": 1635802247072,
     "user": {
      "displayName": "Angela Niederberger",
      "photoUrl": "https://lh3.googleusercontent.com/a/default-user=s64",
      "userId": "05652526769956031628"
     },
     "user_tz": -60
    },
    "id": "ML3JmS_DP0ei",
    "outputId": "095eb984-a651-4296-d72b-9671c6932fb9",
    "tags": []
   },
   "outputs": [],
   "source": [
    "all_movies = movie_reviews_df['original_title'].values\n",
    "recent_movies = movie_reviews_recent_2[\"original_title\"].values\n",
    "recent_movie_idx = movie_reviews_df[movie_reviews_df[\"original_title\"].isin(recent_movies)].index\n",
    "\n",
    "def recent_movie_recommender(fav_movie, all_movies=all_movies, recent_indices = recent_movie_idx, \n",
    "                             similarities=doc_sim_df):\n",
    "    movie_idx = np.where(all_movies == fav_movie)[0][0]\n",
    "    movie_similarities = similarities.iloc[movie_idx].values\n",
    "    similar_movies = np.argsort(-movie_similarities)\n",
    "    similar_recent_movies = [index for index in similar_movies if index in recent_indices]\n",
    "    movie_rec = all_movies[similar_recent_movies][0]\n",
    "    if movie_rec == fav_movie:\n",
    "        movie_rec = all_movies[similar_recent_movies][1]\n",
    "    \n",
    "    return movie_rec"
   ]
  },
  {
   "cell_type": "code",
   "execution_count": 274,
   "id": "58e7cb7b-2e41-4759-b450-1fc3e63e76a5",
   "metadata": {},
   "outputs": [
    {
     "name": "stdout",
     "output_type": "stream",
     "text": [
      "Recommended movie: Contra\n",
      "Overview: With his uncouth manner, Professor Pohl doesn’t enjoy the best reputation at the university where he works. To make matters worse, he makes a racist remark when student Naima arrives late for his lecture. Unfortunately for him, a video of his verbal outburst spreads like wildfire on the Internet, and the university’s president, Lambrecht, is called to deal with the incident. But Pohl is not dismissed. Instead, he is put to the task of helping Naima prepare for an important debating competition. The lecturer and the student could not be more different, yet they are thrown together to work as a team.\n"
     ]
    }
   ],
   "source": [
    "fav_movie = \"Despicable Me\"\n",
    "rec_movie = recent_movie_recommender(fav_movie)\n",
    "overview = movie_reviews_recent[\"overview\"][movie_reviews_recent[\"original_title\"]==rec_movie].values[0]\n",
    "\n",
    "print(\"Recommended movie:\", rec_movie)\n",
    "print(\"Overview:\", overview)"
   ]
  },
  {
   "cell_type": "code",
   "execution_count": 275,
   "id": "7a320841-efe6-4e6e-94d7-251856ce3751",
   "metadata": {},
   "outputs": [
    {
     "data": {
      "text/plain": [
       "array([['Despicable Me',\n",
       "        'Superbad. Superdad. Villainous Gru lives up to his reputation as a despicable, deplorable and downright unlikable guy when he hatches a plan to steal the moon from the sky. But he has a tough time staying on task after three orphans land in his care. Animation Family']],\n",
       "      dtype=object)"
      ]
     },
     "execution_count": 275,
     "metadata": {},
     "output_type": "execute_result"
    }
   ],
   "source": [
    "movie_reviews_df[movie_reviews_df[\"original_title\"]==fav_movie].values"
   ]
  },
  {
   "cell_type": "code",
   "execution_count": 276,
   "id": "7176380f-61d9-4362-985d-8a2a96c7b41c",
   "metadata": {},
   "outputs": [
    {
     "data": {
      "text/plain": [
       "array([['Contra',\n",
       "        ' With his uncouth manner, Professor Pohl doesn’t enjoy the best reputation at the university where he works. To make matters worse, he makes a racist remark when student Naima arrives late for his lecture. Unfortunately for him, a video of his verbal outburst spreads like wildfire on the Internet, and the university’s president, Lambrecht, is called to deal with the incident. But Pohl is not dismissed. Instead, he is put to the task of helping Naima prepare for an important debating competition. The lecturer and the student could not be more different, yet they are thrown together to work as a team. ']],\n",
       "      dtype=object)"
      ]
     },
     "execution_count": 276,
     "metadata": {},
     "output_type": "execute_result"
    }
   ],
   "source": [
    "movie_reviews_df[movie_reviews_df[\"original_title\"]==rec_movie].values"
   ]
  }
 ],
 "metadata": {
  "accelerator": "GPU",
  "colab": {
   "collapsed_sections": [],
   "name": "211101_recommender_models.ipynb",
   "provenance": []
  },
  "kernelspec": {
   "display_name": "streamlit_app",
   "language": "python",
   "name": "streamlit_app"
  },
  "language_info": {
   "codemirror_mode": {
    "name": "ipython",
    "version": 3
   },
   "file_extension": ".py",
   "mimetype": "text/x-python",
   "name": "python",
   "nbconvert_exporter": "python",
   "pygments_lexer": "ipython3",
   "version": "3.8.12"
  }
 },
 "nbformat": 4,
 "nbformat_minor": 5
}
