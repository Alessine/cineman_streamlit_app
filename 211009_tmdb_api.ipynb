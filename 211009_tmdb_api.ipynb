{
 "cells": [
  {
   "cell_type": "markdown",
   "id": "8b6183e1-4e21-4a2e-a4a0-eaaf38e1db88",
   "metadata": {},
   "source": [
    "# Using the TMDB API"
   ]
  },
  {
   "cell_type": "code",
   "execution_count": 121,
   "id": "df8c8ea0-cb0e-4fac-ba1d-17df054a0696",
   "metadata": {},
   "outputs": [],
   "source": [
    "import requests\n",
    "import json\n",
    "import gzip\n",
    "import pandas as pd\n",
    "import urllib.request"
   ]
  },
  {
   "cell_type": "markdown",
   "id": "4709caac-8493-4169-8c2d-2a93fcae9a25",
   "metadata": {},
   "source": [
    "## Movie IDs DataFrame\n",
    "\n",
    "We need to be able to look up the TMDB ID for each movie, so first of all we download, unzip and store this data in a data frame."
   ]
  },
  {
   "cell_type": "code",
   "execution_count": 191,
   "id": "ad178bf1-00f5-4436-bf2e-36a17dc143cd",
   "metadata": {},
   "outputs": [
    {
     "data": {
      "text/html": [
       "<div>\n",
       "<style scoped>\n",
       "    .dataframe tbody tr th:only-of-type {\n",
       "        vertical-align: middle;\n",
       "    }\n",
       "\n",
       "    .dataframe tbody tr th {\n",
       "        vertical-align: top;\n",
       "    }\n",
       "\n",
       "    .dataframe thead th {\n",
       "        text-align: right;\n",
       "    }\n",
       "</style>\n",
       "<table border=\"1\" class=\"dataframe\">\n",
       "  <thead>\n",
       "    <tr style=\"text-align: right;\">\n",
       "      <th></th>\n",
       "      <th>adult</th>\n",
       "      <th>id</th>\n",
       "      <th>original_title</th>\n",
       "      <th>popularity</th>\n",
       "      <th>video</th>\n",
       "    </tr>\n",
       "  </thead>\n",
       "  <tbody>\n",
       "    <tr>\n",
       "      <th>0</th>\n",
       "      <td>False</td>\n",
       "      <td>3924</td>\n",
       "      <td>Blondie</td>\n",
       "      <td>1.185</td>\n",
       "      <td>False</td>\n",
       "    </tr>\n",
       "    <tr>\n",
       "      <th>1</th>\n",
       "      <td>False</td>\n",
       "      <td>6124</td>\n",
       "      <td>Der Mann ohne Namen</td>\n",
       "      <td>0.600</td>\n",
       "      <td>False</td>\n",
       "    </tr>\n",
       "    <tr>\n",
       "      <th>2</th>\n",
       "      <td>False</td>\n",
       "      <td>8773</td>\n",
       "      <td>L'amour à vingt ans</td>\n",
       "      <td>2.733</td>\n",
       "      <td>False</td>\n",
       "    </tr>\n",
       "    <tr>\n",
       "      <th>3</th>\n",
       "      <td>False</td>\n",
       "      <td>25449</td>\n",
       "      <td>New World Disorder 9: Never Enough</td>\n",
       "      <td>1.545</td>\n",
       "      <td>False</td>\n",
       "    </tr>\n",
       "    <tr>\n",
       "      <th>4</th>\n",
       "      <td>False</td>\n",
       "      <td>31975</td>\n",
       "      <td>Sesame Street: Elmo Loves You!</td>\n",
       "      <td>0.600</td>\n",
       "      <td>True</td>\n",
       "    </tr>\n",
       "  </tbody>\n",
       "</table>\n",
       "</div>"
      ],
      "text/plain": [
       "   adult     id                      original_title  popularity  video\n",
       "0  False   3924                             Blondie       1.185  False\n",
       "1  False   6124                 Der Mann ohne Namen       0.600  False\n",
       "2  False   8773                 L'amour à vingt ans       2.733  False\n",
       "3  False  25449  New World Disorder 9: Never Enough       1.545  False\n",
       "4  False  31975      Sesame Street: Elmo Loves You!       0.600   True"
      ]
     },
     "execution_count": 191,
     "metadata": {},
     "output_type": "execute_result"
    }
   ],
   "source": [
    "# Get the ID file from tmdb\n",
    "tmdb_id_file = urllib.request.URLopener()\n",
    "tmdb_id_file.retrieve(\"http://files.tmdb.org/p/exports/movie_ids_10_09_2021.json.gz\", \"./data/tmdb_id_file.gz\")\n",
    "\n",
    "# Unzip it and store the string in a list of strings\n",
    "with gzip.GzipFile(\"./data/tmdb_id_file.gz\", 'r') as fin:   \n",
    "    json_bytes = fin.read()                      \n",
    "json_list_of_str = json_bytes.decode().split(\"\\n\")\n",
    "\n",
    "# Turn the list of strings into a list of dictionaries\n",
    "dict_list = []\n",
    "for dict_str in json_list_of_str[:-1]:\n",
    "    real_dict = json.loads(dict_str)\n",
    "    dict_list.append(real_dict)\n",
    "    \n",
    "# Convert it to a dataframe\n",
    "movie_id_df = pd.DataFrame(dict_list)\n",
    "movie_id_df.head()"
   ]
  },
  {
   "cell_type": "markdown",
   "id": "bba2ea22-1c52-47f5-8a4f-8cc5fae07bc6",
   "metadata": {},
   "source": [
    "## Getting Info for individual movies"
   ]
  },
  {
   "cell_type": "code",
   "execution_count": 4,
   "id": "98e90c8f-1d59-4685-b2e9-ddca995c35f1",
   "metadata": {},
   "outputs": [
    {
     "data": {
      "text/plain": [
       "'0d0cadc24e57023358add396ceb15f3e'"
      ]
     },
     "execution_count": 4,
     "metadata": {},
     "output_type": "execute_result"
    }
   ],
   "source": [
    "# load the API credentials\n",
    "key_yml = json.load(open(\"./tmdb_credentials.yml\"))\n",
    "tmdb_api_key = key_yml[\"api_key\"]"
   ]
  },
  {
   "cell_type": "code",
   "execution_count": 45,
   "id": "4aae374e-182a-4a9d-953c-1c410e1875a6",
   "metadata": {},
   "outputs": [],
   "source": [
    "# Here's an example URL for one specific movie - note the ID = 55\n",
    "example_url = \"https://api.themoviedb.org/3/movie/55?api_key=\""
   ]
  },
  {
   "cell_type": "code",
   "execution_count": 183,
   "id": "bd3860e5-8194-400d-9bfa-c8b9d895dd16",
   "metadata": {},
   "outputs": [
    {
     "data": {
      "text/plain": [
       "{'adult': False,\n",
       " 'backdrop_path': '/3YzVtvNERQOIJXnrcWv3xhj5EMT.jpg',\n",
       " 'belongs_to_collection': None,\n",
       " 'budget': 2000000,\n",
       " 'genres': [{'id': 18, 'name': 'Drama'}, {'id': 53, 'name': 'Thriller'}],\n",
       " 'homepage': '',\n",
       " 'id': 55,\n",
       " 'imdb_id': 'tt0245712',\n",
       " 'original_language': 'es',\n",
       " 'original_title': 'Amores perros',\n",
       " 'overview': 'A fatalistic car crash in Mexico City sets off a chain of events in the lives of three persons: a young man aching to run off with his sister-in-law, a supermodel, and a homeless man. Their lives are catapulted into unforeseen circumstances instigated by the seemingly inconsequential destiny of a dog.',\n",
       " 'popularity': 22.476,\n",
       " 'poster_path': '/vV4vlD4ool5JSsS1rB82qjCF6z8.jpg',\n",
       " 'production_companies': [{'id': 5084,\n",
       "   'logo_path': None,\n",
       "   'name': 'Altavista Films',\n",
       "   'origin_country': 'MX'},\n",
       "  {'id': 110056,\n",
       "   'logo_path': None,\n",
       "   'name': 'Zeta Film (MX)',\n",
       "   'origin_country': ''},\n",
       "  {'id': 1632,\n",
       "   'logo_path': '/cisLn1YAUuptXVBa0xjq7ST9cH0.png',\n",
       "   'name': 'Lionsgate',\n",
       "   'origin_country': 'US'}],\n",
       " 'production_countries': [{'iso_3166_1': 'MX', 'name': 'Mexico'}],\n",
       " 'release_date': '2000-06-16',\n",
       " 'revenue': 20908467,\n",
       " 'runtime': 154,\n",
       " 'spoken_languages': [{'english_name': 'Spanish',\n",
       "   'iso_639_1': 'es',\n",
       "   'name': 'Español'}],\n",
       " 'status': 'Released',\n",
       " 'tagline': 'Love. Betrayal. Death.',\n",
       " 'title': 'Amores Perros',\n",
       " 'video': False,\n",
       " 'vote_average': 7.6,\n",
       " 'vote_count': 1821}"
      ]
     },
     "execution_count": 183,
     "metadata": {},
     "output_type": "execute_result"
    }
   ],
   "source": [
    "req = requests.get(example_url + tmdb_api_key)\n",
    "\n",
    "# Here's what the output looks like\n",
    "example_json = req.json()\n",
    "example_json"
   ]
  },
  {
   "cell_type": "code",
   "execution_count": 184,
   "id": "62affbe4-6eb2-405b-94c2-c792c2e19c59",
   "metadata": {},
   "outputs": [
    {
     "data": {
      "text/plain": [
       "'A fatalistic car crash in Mexico City sets off a chain of events in the lives of three persons: a young man aching to run off with his sister-in-law, a supermodel, and a homeless man. Their lives are catapulted into unforeseen circumstances instigated by the seemingly inconsequential destiny of a dog.'"
      ]
     },
     "execution_count": 184,
     "metadata": {},
     "output_type": "execute_result"
    }
   ],
   "source": [
    "# We can get the description with 'overview'\n",
    "example_json[\"overview\"]"
   ]
  }
 ],
 "metadata": {
  "kernelspec": {
   "display_name": "viz-082021",
   "language": "python",
   "name": "viz-082021"
  },
  "language_info": {
   "codemirror_mode": {
    "name": "ipython",
    "version": 3
   },
   "file_extension": ".py",
   "mimetype": "text/x-python",
   "name": "python",
   "nbconvert_exporter": "python",
   "pygments_lexer": "ipython3",
   "version": "3.8.10"
  },
  "toc-autonumbering": true
 },
 "nbformat": 4,
 "nbformat_minor": 5
}
